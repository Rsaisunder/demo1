{
 "cells": [
  {
   "cell_type": "code",
   "execution_count": 1,
   "id": "192e8612-505f-4d25-8488-567b26832ad1",
   "metadata": {},
   "outputs": [
    {
     "data": {
      "text/plain": [
       "5"
      ]
     },
     "execution_count": 1,
     "metadata": {},
     "output_type": "execute_result"
    }
   ],
   "source": [
    "a=5\n",
    "a"
   ]
  },
  {
   "cell_type": "code",
   "execution_count": 2,
   "id": "52846fe9-da2b-401b-842f-37dbda12f213",
   "metadata": {},
   "outputs": [
    {
     "data": {
      "text/plain": [
       "12"
      ]
     },
     "execution_count": 2,
     "metadata": {},
     "output_type": "execute_result"
    }
   ],
   "source": [
    "a + 7"
   ]
  },
  {
   "cell_type": "markdown",
   "id": "6172826a-cb39-41e7-9b8a-64c738838a95",
   "metadata": {},
   "source": [
    "# Heading1"
   ]
  },
  {
   "cell_type": "markdown",
   "id": "390efcdd-3c80-4050-b4d9-bb86e4df6a0d",
   "metadata": {},
   "source": [
    "### Title"
   ]
  },
  {
   "cell_type": "markdown",
   "id": "3733ebca-1458-4ed3-afc1-bef876583a86",
   "metadata": {},
   "source": [
    "There are five major rivers in the country.\n",
    "**These are as follows**\n",
    "- Brahmaputra\n",
    "- Ganga\n",
    "- Yamuna\n",
    "- Godavari\n",
    "- Tungabhadra\n",
    "\n",
    "_These rivers interconnect at major junctions such as the Sangam._"
   ]
  },
  {
   "cell_type": "raw",
   "id": "1e139ad6-3d68-402c-9dc5-a41a1255a57f",
   "metadata": {},
   "source": [
    "This ia a raw nbconvert cell. For explanations or details associated with the code or analytics, this cell type becomes handy. It is suitable for passages where plain text is all that is needed."
   ]
  },
  {
   "cell_type": "markdown",
   "id": "3f1f2617-d877-41a5-8404-9432c63af788",
   "metadata": {},
   "source": [
    "### Title"
   ]
  },
  {
   "cell_type": "code",
   "execution_count": 3,
   "id": "2aeeff87-eedc-4bc1-86b5-650d806f1b06",
   "metadata": {},
   "outputs": [
    {
     "data": {
      "text/plain": [
       "5"
      ]
     },
     "execution_count": 3,
     "metadata": {},
     "output_type": "execute_result"
    }
   ],
   "source": [
    "a"
   ]
  },
  {
   "cell_type": "code",
   "execution_count": 4,
   "id": "03c8a715-1f79-4084-8145-df30775f93d2",
   "metadata": {},
   "outputs": [
    {
     "data": {
      "text/plain": [
       "5"
      ]
     },
     "execution_count": 4,
     "metadata": {},
     "output_type": "execute_result"
    }
   ],
   "source": [
    "a"
   ]
  },
  {
   "cell_type": "markdown",
   "id": "ad21fad1-2cde-452a-ae16-0fd228477a32",
   "metadata": {},
   "source": [
    "### Keywords\n",
    "Words in Pyhon with designed, reserved for that purpose"
   ]
  },
  {
   "cell_type": "code",
   "execution_count": 5,
   "id": "42928ab2-e1bd-4f2b-be28-0e262aa8b5e2",
   "metadata": {},
   "outputs": [
    {
     "name": "stdout",
     "output_type": "stream",
     "text": [
      "['False', 'None', 'True', 'and', 'as', 'assert', 'async', 'await', 'break', 'class', 'continue', 'def', 'del', 'elif', 'else', 'except', 'finally', 'for', 'from', 'global', 'if', 'import', 'in', 'is', 'lambda', 'nonlocal', 'not', 'or', 'pass', 'raise', 'return', 'try', 'while', 'with', 'yield']\n"
     ]
    }
   ],
   "source": [
    "import keyword\n",
    "print(keyword.kwlist)"
   ]
  },
  {
   "cell_type": "code",
   "execution_count": 6,
   "id": "c064af8d-badf-4926-8632-d47140f7cf71",
   "metadata": {},
   "outputs": [
    {
     "data": {
      "text/plain": [
       "35"
      ]
     },
     "execution_count": 6,
     "metadata": {},
     "output_type": "execute_result"
    }
   ],
   "source": [
    "len(keyword.kwlist)"
   ]
  },
  {
   "cell_type": "markdown",
   "id": "de1fbf77-25a2-4dc9-bdee-a1b640bbeef1",
   "metadata": {},
   "source": [
    "### Comments\n",
    "remarks used within a code cell"
   ]
  },
  {
   "cell_type": "code",
   "execution_count": 7,
   "id": "3ce1d2b7-d700-42f5-bf20-d503dd56075f",
   "metadata": {},
   "outputs": [
    {
     "data": {
      "text/plain": [
       "25"
      ]
     },
     "execution_count": 7,
     "metadata": {},
     "output_type": "execute_result"
    }
   ],
   "source": [
    "# hashtag is a popular way of commenting\n",
    "apples = 25 # assinging the quantity of the fruit\n",
    "apples"
   ]
  },
  {
   "cell_type": "code",
   "execution_count": 8,
   "id": "fd315666-12ba-4c57-9acf-bca7f181caa0",
   "metadata": {},
   "outputs": [
    {
     "data": {
      "text/plain": [
       "35"
      ]
     },
     "execution_count": 8,
     "metadata": {},
     "output_type": "execute_result"
    }
   ],
   "source": [
    "\"\"\"This is a style of commenting usefull for multi-line passages. it is conventient if the comment is expected to be lengthy.\"\"\"\n",
    "apples + 10 # more quantity added to the existing\n",
    "#quantity of apples"
   ]
  },
  {
   "cell_type": "markdown",
   "id": "ebfeb793-eba0-451d-a006-035665c0eb2f",
   "metadata": {},
   "source": [
    "### Identifiers\n",
    "name given to an entity such as a variable, function or class."
   ]
  },
  {
   "cell_type": "code",
   "execution_count": 9,
   "id": "869ac755-ccb6-4bdf-b346-6799b50201ec",
   "metadata": {},
   "outputs": [
    {
     "ename": "SyntaxError",
     "evalue": "invalid syntax (733166511.py, line 1)",
     "output_type": "error",
     "traceback": [
      "\u001b[1;36m  Cell \u001b[1;32mIn[9], line 1\u001b[1;36m\u001b[0m\n\u001b[1;33m    assert = 234 # cannot use keywords as identifiers\u001b[0m\n\u001b[1;37m           ^\u001b[0m\n\u001b[1;31mSyntaxError\u001b[0m\u001b[1;31m:\u001b[0m invalid syntax\n"
     ]
    }
   ],
   "source": [
    "assert = 234 # cannot use keywords as identifiers"
   ]
  },
  {
   "cell_type": "code",
   "execution_count": 11,
   "id": "b644739b-1b82-4299-9486-4eae5c0696fd",
   "metadata": {},
   "outputs": [
    {
     "data": {
      "text/plain": [
       "72"
      ]
     },
     "execution_count": 11,
     "metadata": {},
     "output_type": "execute_result"
    }
   ],
   "source": [
    "# use of alphanumeric characters along with the underscore\n",
    "var_1 = 24\n",
    "var_2 = 48 # initialising a variable\n",
    "var_1 + var_2"
   ]
  },
  {
   "cell_type": "code",
   "execution_count": 12,
   "id": "61f85281-4486-4e42-baad-0a3f996a9222",
   "metadata": {},
   "outputs": [
    {
     "data": {
      "text/plain": [
       "24"
      ]
     },
     "execution_count": 12,
     "metadata": {},
     "output_type": "execute_result"
    }
   ],
   "source": [
    "var_1 # calling a variable"
   ]
  },
  {
   "cell_type": "code",
   "execution_count": 13,
   "id": "36ce7c2a-463f-4e6a-9f37-5fa545d6e294",
   "metadata": {},
   "outputs": [
    {
     "data": {
      "text/plain": [
       "35"
      ]
     },
     "execution_count": 13,
     "metadata": {},
     "output_type": "execute_result"
    }
   ],
   "source": [
    "var_1 = 35 # re-initialing\n",
    "var_1 # calling"
   ]
  },
  {
   "cell_type": "code",
   "execution_count": 14,
   "id": "00e1c239-081b-46df-9010-3074d3df6ec0",
   "metadata": {},
   "outputs": [
    {
     "data": {
      "text/plain": [
       "48"
      ]
     },
     "execution_count": 14,
     "metadata": {},
     "output_type": "execute_result"
    }
   ],
   "source": [
    "var_1\n",
    "var_2"
   ]
  },
  {
   "cell_type": "code",
   "execution_count": 15,
   "id": "eb8f4091-544e-4155-b043-7bb622300669",
   "metadata": {},
   "outputs": [
    {
     "name": "stdout",
     "output_type": "stream",
     "text": [
      "35\n",
      "48\n",
      "83\n",
      "13\n",
      "35 48\n"
     ]
    }
   ],
   "source": [
    "print(var_1)\n",
    "print(var_2)\n",
    "print(var_1+var_2)\n",
    "print(var_2-var_1)\n",
    "print(var_1,var_2)"
   ]
  },
  {
   "cell_type": "code",
   "execution_count": 16,
   "id": "052b0c87-98ab-4cc2-9518-6b854e7f801c",
   "metadata": {},
   "outputs": [
    {
     "data": {
      "text/plain": [
       "35"
      ]
     },
     "execution_count": 16,
     "metadata": {},
     "output_type": "execute_result"
    }
   ],
   "source": [
    "Var_1 = 44 # new variable since kernel is case sensitive\n",
    "var_1"
   ]
  },
  {
   "cell_type": "code",
   "execution_count": 17,
   "id": "7063efe2-4cf9-46f3-aa1c-70e2eb824d5b",
   "metadata": {},
   "outputs": [
    {
     "name": "stdout",
     "output_type": "stream",
     "text": [
      "24 9.81 Bright sunny morning\n"
     ]
    }
   ],
   "source": [
    "# single assignment\n",
    "intvar = 24\n",
    "floatvar = 9.81\n",
    "strvar = \"Bright sunny morning\" # assign/initialise\n",
    "print(intvar,floatvar,strvar)"
   ]
  },
  {
   "cell_type": "code",
   "execution_count": 18,
   "id": "acd88296-b906-4e56-8c53-225da2e8992f",
   "metadata": {},
   "outputs": [
    {
     "data": {
      "text/plain": [
       "float"
      ]
     },
     "execution_count": 18,
     "metadata": {},
     "output_type": "execute_result"
    }
   ],
   "source": [
    "type(floatvar)"
   ]
  },
  {
   "cell_type": "code",
   "execution_count": 19,
   "id": "89a9e0ba-79af-4fcb-9076-29211e092afc",
   "metadata": {},
   "outputs": [
    {
     "name": "stdout",
     "output_type": "stream",
     "text": [
      "0\n",
      "-56.772\n",
      "Twilight\n",
      "False\n",
      "Sum of the interger and float defined above -56.772\n"
     ]
    }
   ],
   "source": [
    "# Multiple assignment\n",
    "intvar,floatvar,strvar,boolvar = 0,-56.772,\"Twilight\",False\n",
    "print(intvar)\n",
    "print(floatvar)\n",
    "print(strvar)\n",
    "print(boolvar)\n",
    "print(\"Sum of the interger and float defined above\",intvar+floatvar)"
   ]
  },
  {
   "cell_type": "code",
   "execution_count": 20,
   "id": "5f605a07-1a79-4458-8fe2-47c279aa103c",
   "metadata": {},
   "outputs": [
    {
     "name": "stdout",
     "output_type": "stream",
     "text": [
      "23\n",
      "0\n",
      "46\n"
     ]
    }
   ],
   "source": [
    "age1=age2=age3=age4= 23 #Multiple assignment\n",
    "print(age1)\n",
    "print(age3-age2)\n",
    "print(age3+age4)"
   ]
  },
  {
   "cell_type": "markdown",
   "id": "f82ee9fa-3788-409f-9f56-b5af0863bcd4",
   "metadata": {},
   "source": [
    "### Typecasting"
   ]
  },
  {
   "cell_type": "markdown",
   "id": "bba73e46-080f-4f5f-bf4e-f40af1d050a5",
   "metadata": {},
   "source": [
    "Change of the datatype from one to another"
   ]
  },
  {
   "cell_type": "code",
   "execution_count": 21,
   "id": "497838f4-f2b2-4917-bc51-790a19cc87c4",
   "metadata": {},
   "outputs": [
    {
     "data": {
      "text/plain": [
       "16.77"
      ]
     },
     "execution_count": 21,
     "metadata": {},
     "output_type": "execute_result"
    }
   ],
   "source": [
    "# Auto typecasting\n",
    "45 - 20 + 5.77 - 16 + 2 # integers auto-typecast t float"
   ]
  },
  {
   "cell_type": "code",
   "execution_count": 22,
   "id": "7d2074e9-a158-4f7f-92c4-4fa004b8639b",
   "metadata": {},
   "outputs": [
    {
     "data": {
      "text/plain": [
       "2.5"
      ]
     },
     "execution_count": 22,
     "metadata": {},
     "output_type": "execute_result"
    }
   ],
   "source": [
    "3 -5 + 6*True -False -1.5 # 3.0-5.0+6.0-0.0-1.5"
   ]
  },
  {
   "cell_type": "code",
   "execution_count": 23,
   "id": "2a509d49-1321-402d-b49b-92723188a76e",
   "metadata": {},
   "outputs": [],
   "source": [
    "# Forced typecasting\n",
    "# datatype changed by means of built-in functions"
   ]
  },
  {
   "cell_type": "code",
   "execution_count": 24,
   "id": "6403bf31-ce18-4fce-a3aa-e51bf819c8bd",
   "metadata": {},
   "outputs": [
    {
     "data": {
      "text/plain": [
       "0.0"
      ]
     },
     "execution_count": 24,
     "metadata": {},
     "output_type": "execute_result"
    }
   ],
   "source": [
    "# int to float\n",
    "float(intvar)"
   ]
  },
  {
   "cell_type": "code",
   "execution_count": 25,
   "id": "56def3d5-0c80-4ca8-9bb4-ea360386bf34",
   "metadata": {},
   "outputs": [
    {
     "data": {
      "text/plain": [
       "'-56.772'"
      ]
     },
     "execution_count": 25,
     "metadata": {},
     "output_type": "execute_result"
    }
   ],
   "source": [
    "# change to a string\n",
    "str(floatvar)"
   ]
  },
  {
   "cell_type": "code",
   "execution_count": 26,
   "id": "49d5f1a8-6dbf-4a56-a87d-ae7ee18f7ad0",
   "metadata": {},
   "outputs": [
    {
     "data": {
      "text/plain": [
       "'0'"
      ]
     },
     "execution_count": 26,
     "metadata": {},
     "output_type": "execute_result"
    }
   ],
   "source": [
    "str(intvar)"
   ]
  },
  {
   "cell_type": "code",
   "execution_count": 27,
   "id": "04ffeef8-a45d-4375-8352-f176d810c633",
   "metadata": {},
   "outputs": [
    {
     "data": {
      "text/plain": [
       "'False'"
      ]
     },
     "execution_count": 27,
     "metadata": {},
     "output_type": "execute_result"
    }
   ],
   "source": [
    "str_1 = str(boolvar)\n",
    "str_1"
   ]
  },
  {
   "cell_type": "code",
   "execution_count": 28,
   "id": "5a6f8517-925a-4621-8a93-6a3873856d97",
   "metadata": {},
   "outputs": [
    {
     "data": {
      "text/plain": [
       "0.0"
      ]
     },
     "execution_count": 28,
     "metadata": {},
     "output_type": "execute_result"
    }
   ],
   "source": [
    "# float to int\n",
    "float(intvar)"
   ]
  },
  {
   "cell_type": "code",
   "execution_count": 29,
   "id": "ec48fd88-901a-4cdd-a007-a2c7716992ec",
   "metadata": {},
   "outputs": [
    {
     "data": {
      "text/plain": [
       "19"
      ]
     },
     "execution_count": 29,
     "metadata": {},
     "output_type": "execute_result"
    }
   ],
   "source": [
    "#float to int\n",
    "int(19.996)"
   ]
  },
  {
   "cell_type": "code",
   "execution_count": 30,
   "id": "1e89578a-864b-4df8-a8f7-a39f94c905ae",
   "metadata": {},
   "outputs": [
    {
     "data": {
      "text/plain": [
       "'30'"
      ]
     },
     "execution_count": 30,
     "metadata": {},
     "output_type": "execute_result"
    }
   ],
   "source": [
    "str(30)"
   ]
  },
  {
   "cell_type": "code",
   "execution_count": 32,
   "id": "851f130d-c89e-4e90-a80d-d4c508e5cac5",
   "metadata": {},
   "outputs": [
    {
     "ename": "ValueError",
     "evalue": "invalid literal for int() with base 10: 'Infosys'",
     "output_type": "error",
     "traceback": [
      "\u001b[1;31m---------------------------------------------------------------------------\u001b[0m",
      "\u001b[1;31mValueError\u001b[0m                                Traceback (most recent call last)",
      "Cell \u001b[1;32mIn[32], line 1\u001b[0m\n\u001b[1;32m----> 1\u001b[0m \u001b[38;5;28mint\u001b[39m(\u001b[38;5;124m'\u001b[39m\u001b[38;5;124mInfosys\u001b[39m\u001b[38;5;124m'\u001b[39m)\n",
      "\u001b[1;31mValueError\u001b[0m: invalid literal for int() with base 10: 'Infosys'"
     ]
    }
   ],
   "source": [
    "int('Infosys')"
   ]
  },
  {
   "cell_type": "code",
   "execution_count": 33,
   "id": "b977d540-70e6-494e-9e71-3d3c9d6310b6",
   "metadata": {},
   "outputs": [
    {
     "data": {
      "text/plain": [
       "234"
      ]
     },
     "execution_count": 33,
     "metadata": {},
     "output_type": "execute_result"
    }
   ],
   "source": [
    "int(\"234\")"
   ]
  },
  {
   "cell_type": "code",
   "execution_count": 34,
   "id": "ec3424b8-d3f9-4303-9444-8ba2f09e359a",
   "metadata": {},
   "outputs": [
    {
     "data": {
      "text/plain": [
       "False"
      ]
     },
     "execution_count": 34,
     "metadata": {},
     "output_type": "execute_result"
    }
   ],
   "source": [
    "isinstance(25,float)"
   ]
  },
  {
   "cell_type": "code",
   "execution_count": 35,
   "id": "461aaa09-fec4-4c9e-b191-e245f40d99df",
   "metadata": {},
   "outputs": [
    {
     "data": {
      "text/plain": [
       "True"
      ]
     },
     "execution_count": 35,
     "metadata": {},
     "output_type": "execute_result"
    }
   ],
   "source": [
    "isinstance(False,int)"
   ]
  },
  {
   "cell_type": "code",
   "execution_count": 36,
   "id": "9b472aef-c2c1-4ab4-a6b6-a9f3e95fff81",
   "metadata": {},
   "outputs": [
    {
     "data": {
      "text/plain": [
       "True"
      ]
     },
     "execution_count": 36,
     "metadata": {},
     "output_type": "execute_result"
    }
   ],
   "source": [
    "bool(99)"
   ]
  },
  {
   "cell_type": "code",
   "execution_count": 37,
   "id": "33c0577b-acd9-4c76-8ff2-eb929a139ad1",
   "metadata": {},
   "outputs": [
    {
     "data": {
      "text/plain": [
       "True"
      ]
     },
     "execution_count": 37,
     "metadata": {},
     "output_type": "execute_result"
    }
   ],
   "source": [
    "bool(\"phyton\")"
   ]
  },
  {
   "cell_type": "code",
   "execution_count": 38,
   "id": "f8060d12-aaca-4336-8662-f8e82a915f00",
   "metadata": {},
   "outputs": [
    {
     "data": {
      "text/plain": [
       "False"
      ]
     },
     "execution_count": 38,
     "metadata": {},
     "output_type": "execute_result"
    }
   ],
   "source": [
    "bool(0)"
   ]
  },
  {
   "cell_type": "code",
   "execution_count": 39,
   "id": "ad82c06e-1d84-4037-b748-031eaaab1639",
   "metadata": {},
   "outputs": [
    {
     "data": {
      "text/plain": [
       "True"
      ]
     },
     "execution_count": 39,
     "metadata": {},
     "output_type": "execute_result"
    }
   ],
   "source": [
    "bool(str)"
   ]
  },
  {
   "cell_type": "code",
   "execution_count": 40,
   "id": "aa3c98aa-912d-4c4d-a554-91c1ce258290",
   "metadata": {},
   "outputs": [
    {
     "data": {
      "text/plain": [
       "True"
      ]
     },
     "execution_count": 40,
     "metadata": {},
     "output_type": "execute_result"
    }
   ],
   "source": [
    "bool(float)"
   ]
  },
  {
   "cell_type": "code",
   "execution_count": 41,
   "id": "98609eda-024a-4c37-9385-bd5ef98d90d8",
   "metadata": {},
   "outputs": [
    {
     "data": {
      "text/plain": [
       "True"
      ]
     },
     "execution_count": 41,
     "metadata": {},
     "output_type": "execute_result"
    }
   ],
   "source": [
    "bool(\"0\")"
   ]
  },
  {
   "cell_type": "code",
   "execution_count": 42,
   "id": "5bd89b4c-83c3-4724-abad-32cdea4ccf56",
   "metadata": {},
   "outputs": [
    {
     "data": {
      "text/plain": [
       "False"
      ]
     },
     "execution_count": 42,
     "metadata": {},
     "output_type": "execute_result"
    }
   ],
   "source": [
    "bool(intvar)"
   ]
  },
  {
   "cell_type": "code",
   "execution_count": 43,
   "id": "e91ce68c-2b9c-41ff-aabc-1b976054766e",
   "metadata": {},
   "outputs": [
    {
     "data": {
      "text/plain": [
       "140714852259304"
      ]
     },
     "execution_count": 43,
     "metadata": {},
     "output_type": "execute_result"
    }
   ],
   "source": [
    "id(age1)"
   ]
  },
  {
   "cell_type": "code",
   "execution_count": 44,
   "id": "06247a8b-70bb-4915-bf5e-9f5dfcaeaddb",
   "metadata": {},
   "outputs": [
    {
     "data": {
      "text/plain": [
       "140714852259304"
      ]
     },
     "execution_count": 44,
     "metadata": {},
     "output_type": "execute_result"
    }
   ],
   "source": [
    "id(age3)"
   ]
  },
  {
   "cell_type": "code",
   "execution_count": 45,
   "id": "9c1f1e34-a1be-4885-996a-66f30ac885d1",
   "metadata": {},
   "outputs": [
    {
     "data": {
      "text/plain": [
       "1210457494800"
      ]
     },
     "execution_count": 45,
     "metadata": {},
     "output_type": "execute_result"
    }
   ],
   "source": [
    "age5=23.0\n",
    "id(age5)"
   ]
  },
  {
   "cell_type": "code",
   "execution_count": 46,
   "id": "d018dc3d-6ebb-4ca9-ac3b-a880e32dc71b",
   "metadata": {},
   "outputs": [
    {
     "data": {
      "text/plain": [
       "1210471306864"
      ]
     },
     "execution_count": 46,
     "metadata": {},
     "output_type": "execute_result"
    }
   ],
   "source": [
    "age6=99.9\n",
    "id(age6)"
   ]
  },
  {
   "cell_type": "code",
   "execution_count": 47,
   "id": "2d57515b-8b5b-427a-a50c-7fd528c3b771",
   "metadata": {},
   "outputs": [
    {
     "data": {
      "text/plain": [
       "1210457504784"
      ]
     },
     "execution_count": 47,
     "metadata": {},
     "output_type": "execute_result"
    }
   ],
   "source": [
    "id(age1+age6)"
   ]
  },
  {
   "cell_type": "markdown",
   "id": "90f3ed54-29c0-497e-93d1-4a20bdd83ce5",
   "metadata": {},
   "source": [
    "### String Indexing"
   ]
  },
  {
   "cell_type": "code",
   "execution_count": 48,
   "id": "a4817551-24a1-440f-a9a0-9dbebf8cb501",
   "metadata": {},
   "outputs": [
    {
     "data": {
      "text/plain": [
       "'ALL AROUND THE GLOBE!'"
      ]
     },
     "execution_count": 48,
     "metadata": {},
     "output_type": "execute_result"
    }
   ],
   "source": [
    "str1 = \"ALL AROUND THE GLOBE!\"\n",
    "str1"
   ]
  },
  {
   "cell_type": "code",
   "execution_count": 49,
   "id": "920ec8a9-76a9-4c58-b26d-d3cba25aea91",
   "metadata": {},
   "outputs": [
    {
     "data": {
      "text/plain": [
       "21"
      ]
     },
     "execution_count": 49,
     "metadata": {},
     "output_type": "execute_result"
    }
   ],
   "source": [
    "len(str1)"
   ]
  },
  {
   "cell_type": "code",
   "execution_count": 50,
   "id": "fe3369e7-6262-40c0-b58d-4670c055c0f3",
   "metadata": {},
   "outputs": [
    {
     "data": {
      "text/plain": [
       "'D'"
      ]
     },
     "execution_count": 50,
     "metadata": {},
     "output_type": "execute_result"
    }
   ],
   "source": [
    "str1[9] # 10th character"
   ]
  },
  {
   "cell_type": "code",
   "execution_count": 51,
   "id": "42b60e9d-c591-4f7e-b4ff-0e7cf239cce2",
   "metadata": {},
   "outputs": [
    {
     "data": {
      "text/plain": [
       "'A'"
      ]
     },
     "execution_count": 51,
     "metadata": {},
     "output_type": "execute_result"
    }
   ],
   "source": [
    "# 1st character\n",
    "str1[0]"
   ]
  },
  {
   "cell_type": "code",
   "execution_count": 52,
   "id": "08753c45-355e-4851-9882-9bf403ce117d",
   "metadata": {},
   "outputs": [
    {
     "data": {
      "text/plain": [
       "'L'"
      ]
     },
     "execution_count": 52,
     "metadata": {},
     "output_type": "execute_result"
    }
   ],
   "source": [
    "# 3rd character\n",
    "str1[-20]"
   ]
  },
  {
   "cell_type": "code",
   "execution_count": 53,
   "id": "a0f2a8c6-2bcc-48e4-b1a9-945d86b1cba5",
   "metadata": {},
   "outputs": [
    {
     "data": {
      "text/plain": [
       "' '"
      ]
     },
     "execution_count": 53,
     "metadata": {},
     "output_type": "execute_result"
    }
   ],
   "source": [
    "# 5th character\n",
    "str1[-18]"
   ]
  },
  {
   "cell_type": "code",
   "execution_count": 54,
   "id": "6f546540-0e22-44e8-a0e0-b568147e0504",
   "metadata": {},
   "outputs": [],
   "source": [
    "# Slicing\n",
    "# str_name[strat:end]"
   ]
  },
  {
   "cell_type": "code",
   "execution_count": 55,
   "id": "ef7c48e8-5dec-4499-99c9-bbb3f3b51cac",
   "metadata": {},
   "outputs": [
    {
     "data": {
      "text/plain": [
       "'AROUND'"
      ]
     },
     "execution_count": 55,
     "metadata": {},
     "output_type": "execute_result"
    }
   ],
   "source": [
    "# Extract 'AROUND' from str1\n",
    "str1[4:10]"
   ]
  },
  {
   "cell_type": "code",
   "execution_count": 56,
   "id": "44a5ccbd-48bd-4c56-a65b-4aef7508ca70",
   "metadata": {},
   "outputs": [
    {
     "data": {
      "text/plain": [
       "'AROUND'"
      ]
     },
     "execution_count": 56,
     "metadata": {},
     "output_type": "execute_result"
    }
   ],
   "source": [
    "str1[4:-11]"
   ]
  },
  {
   "cell_type": "code",
   "execution_count": 57,
   "id": "343db711-68a2-4c98-b6d0-bbebc255d032",
   "metadata": {},
   "outputs": [
    {
     "data": {
      "text/plain": [
       "'ALL AROUND'"
      ]
     },
     "execution_count": 57,
     "metadata": {},
     "output_type": "execute_result"
    }
   ],
   "source": [
    "str1[0:10]"
   ]
  },
  {
   "cell_type": "code",
   "execution_count": 58,
   "id": "d58748a6-1b9d-4524-bd26-a5806d87c7a1",
   "metadata": {},
   "outputs": [
    {
     "data": {
      "text/plain": [
       "'ALL AROUND'"
      ]
     },
     "execution_count": 58,
     "metadata": {},
     "output_type": "execute_result"
    }
   ],
   "source": [
    "str1[ :10]"
   ]
  },
  {
   "cell_type": "code",
   "execution_count": 59,
   "id": "2797397a-7dca-4d5c-aa98-aee2f60e20fc",
   "metadata": {},
   "outputs": [
    {
     "data": {
      "text/plain": [
       "'ALL AROUND THE GLOBE!'"
      ]
     },
     "execution_count": 59,
     "metadata": {},
     "output_type": "execute_result"
    }
   ],
   "source": [
    "str1[ : ]"
   ]
  },
  {
   "cell_type": "code",
   "execution_count": 60,
   "id": "5d0dfd7a-1804-469e-99d6-87a237ca1da2",
   "metadata": {},
   "outputs": [
    {
     "data": {
      "text/plain": [
       "'ALL AROUND THE GLOBE!'"
      ]
     },
     "execution_count": 60,
     "metadata": {},
     "output_type": "execute_result"
    }
   ],
   "source": [
    "str1[-21: ]"
   ]
  },
  {
   "cell_type": "code",
   "execution_count": 61,
   "id": "0494e8e4-8ca4-462a-95ad-53dc81c29866",
   "metadata": {},
   "outputs": [
    {
     "data": {
      "text/plain": [
       "'THE GLOBE'"
      ]
     },
     "execution_count": 61,
     "metadata": {},
     "output_type": "execute_result"
    }
   ],
   "source": [
    "str1[-10:-1]"
   ]
  },
  {
   "cell_type": "code",
   "execution_count": 62,
   "id": "2339fa39-9d08-4733-8867-540f06f86957",
   "metadata": {},
   "outputs": [
    {
     "data": {
      "text/plain": [
       "'L RU'"
      ]
     },
     "execution_count": 62,
     "metadata": {},
     "output_type": "execute_result"
    }
   ],
   "source": [
    "str1[1:9:2]"
   ]
  },
  {
   "cell_type": "code",
   "execution_count": 63,
   "id": "47a783c3-14d4-4835-9ed4-96fcbd55f4fd",
   "metadata": {},
   "outputs": [
    {
     "data": {
      "text/plain": [
       "'P+Q+R*S-T+U'"
      ]
     },
     "execution_count": 63,
     "metadata": {},
     "output_type": "execute_result"
    }
   ],
   "source": [
    "\"P+Q+R*S-T+U\"[::]"
   ]
  },
  {
   "cell_type": "code",
   "execution_count": 64,
   "id": "e091734b-2801-4a74-b8c8-f7568203e07b",
   "metadata": {},
   "outputs": [
    {
     "data": {
      "text/plain": [
       "'PQRSTU'"
      ]
     },
     "execution_count": 64,
     "metadata": {},
     "output_type": "execute_result"
    }
   ],
   "source": [
    "\"P+Q+R*S-T+U\"[::2] # EXTRACT VARIABLES"
   ]
  },
  {
   "cell_type": "code",
   "execution_count": 65,
   "id": "6e5254ed-6617-4d39-8d9f-1a4e88675e6a",
   "metadata": {},
   "outputs": [
    {
     "data": {
      "text/plain": [
       "'Applied Statistic'"
      ]
     },
     "execution_count": 65,
     "metadata": {},
     "output_type": "execute_result"
    }
   ],
   "source": [
    "# String concatenation\n",
    "s1 = \"Applied\"\n",
    "s2 = \"Statistic\"\n",
    "s1 + \" \" + s2 # concatenate string using + operator"
   ]
  },
  {
   "cell_type": "raw",
   "id": "1700c4a9-fd01-4087-9515-317ebba07583",
   "metadata": {},
   "source": [
    "# Task:\n",
    "Assign a variable to \" ELECTION ROUND THE CORNER ON A SUNNY DAY\"\n",
    "Extract the following:\n",
    "1) 'ELECTION CORNER'\n",
    "2) 'SUNNY ROUND ELECTIONS'\n",
    "3) 'SUN ON AN ELECTION DAY'"
   ]
  },
  {
   "cell_type": "code",
   "execution_count": 66,
   "id": "4720f146-6591-4fff-89fb-f33f025a288d",
   "metadata": {},
   "outputs": [
    {
     "data": {
      "text/plain": [
       "'ELECTION CORNER'"
      ]
     },
     "execution_count": 66,
     "metadata": {},
     "output_type": "execute_result"
    }
   ],
   "source": [
    "# String concatenation\n",
    "p1 = \"ELECTION\"\n",
    "p2 = \"ROUND\"\n",
    "p3 = \"THE\"\n",
    "p4 = \"CORNER\"\n",
    "p5 = \"ON\"\n",
    "p6 = \"A\"\n",
    "p7 = \"SUNNY\"\n",
    "p8 = \"DAY\"\n",
    "p1 + \" \" + p4"
   ]
  },
  {
   "cell_type": "code",
   "execution_count": 67,
   "id": "d24c5f5f-c977-4917-8e10-82b6c1bd8e6c",
   "metadata": {},
   "outputs": [
    {
     "data": {
      "text/plain": [
       "'SUNNY ROUND ELECTION'"
      ]
     },
     "execution_count": 67,
     "metadata": {},
     "output_type": "execute_result"
    }
   ],
   "source": [
    "p7 + \" \" + p2 + \" \" +p1"
   ]
  },
  {
   "cell_type": "code",
   "execution_count": 68,
   "id": "da3b6f15-662c-49b1-93de-64963d0d6556",
   "metadata": {},
   "outputs": [
    {
     "data": {
      "text/plain": [
       "'SUNNY ON A ELECTION DAY'"
      ]
     },
     "execution_count": 68,
     "metadata": {},
     "output_type": "execute_result"
    }
   ],
   "source": [
    "p7 + \" \" + p5 + \" \" + p6 + \" \" + p1 + \" \" + p8"
   ]
  },
  {
   "cell_type": "code",
   "execution_count": 69,
   "id": "e973e751-4d26-49a5-9b0b-6836f5d3d3db",
   "metadata": {},
   "outputs": [
    {
     "data": {
      "text/plain": [
       "'SUN ON AN ELECTION DAY'"
      ]
     },
     "execution_count": 69,
     "metadata": {},
     "output_type": "execute_result"
    }
   ],
   "source": [
    "# String concatenation\n",
    "p1 = \"ELECTION\"\n",
    "p2 = \"ROUND\"\n",
    "p3 = \"THE\"\n",
    "p4 = \"CORNER\"\n",
    "p5 = \"ON\"\n",
    "p6 = \"A\"\n",
    "p7 = \"SUNNY\"\n",
    "p8 = \"DAY\"\n",
    "p9 = \"SUN\"\n",
    "q1 = \"AN\"\n",
    "p9 + \" \" + p5 + \" \" + q1 + \" \" + p1 + \" \" + p8"
   ]
  },
  {
   "cell_type": "markdown",
   "id": "a9a9eda7-9c68-4bb2-b1d4-45b7af8ebd46",
   "metadata": {},
   "source": [
    "### Strings"
   ]
  },
  {
   "cell_type": "raw",
   "id": "aaaf85d5-e38e-4d18-a7c0-0ebf3f0cdf49",
   "metadata": {},
   "source": [
    "Strings are immutable. Once defined we cannot modify a string."
   ]
  },
  {
   "cell_type": "code",
   "execution_count": 70,
   "id": "6bb5bfb8-5c49-426b-904f-f0761e633a95",
   "metadata": {},
   "outputs": [
    {
     "data": {
      "text/plain": [
       "'Good Morning'"
      ]
     },
     "execution_count": 70,
     "metadata": {},
     "output_type": "execute_result"
    }
   ],
   "source": [
    "# using a replace function\n",
    "str1 = \"Good Morning\"\n",
    "str1"
   ]
  },
  {
   "cell_type": "code",
   "execution_count": 71,
   "id": "0f3bd6be-0022-4d54-9b5b-32c339716857",
   "metadata": {},
   "outputs": [
    {
     "data": {
      "text/plain": [
       "'Good Evening'"
      ]
     },
     "execution_count": 71,
     "metadata": {},
     "output_type": "execute_result"
    }
   ],
   "source": [
    "str1.replace(\"Morning\",\"Evening\") #(substring to replace, new substring)"
   ]
  },
  {
   "cell_type": "code",
   "execution_count": 72,
   "id": "6196b311-51c0-4dec-83ad-e3dc0fb37eb6",
   "metadata": {},
   "outputs": [
    {
     "data": {
      "text/plain": [
       "'Good Morning'"
      ]
     },
     "execution_count": 72,
     "metadata": {},
     "output_type": "execute_result"
    }
   ],
   "source": [
    "str1 # no changes after applying a function"
   ]
  },
  {
   "cell_type": "code",
   "execution_count": 73,
   "id": "6a8cccdd-e246-481d-90a0-1bffd1851d44",
   "metadata": {},
   "outputs": [
    {
     "data": {
      "text/plain": [
       "'Good Evening'"
      ]
     },
     "execution_count": 73,
     "metadata": {},
     "output_type": "execute_result"
    }
   ],
   "source": [
    "str1 = str1.replace(\"Morning\",\"Evening\")\n",
    "str1"
   ]
  },
  {
   "cell_type": "code",
   "execution_count": 74,
   "id": "4886fb5b-6c6d-4149-bbc2-ee4c7742ac25",
   "metadata": {},
   "outputs": [
    {
     "data": {
      "text/plain": [
       "'not so good Evening'"
      ]
     },
     "execution_count": 74,
     "metadata": {},
     "output_type": "execute_result"
    }
   ],
   "source": [
    "str1 = str1.replace(\"Good\",\"not so good\") # new variable initialised\n",
    "str1"
   ]
  },
  {
   "cell_type": "markdown",
   "id": "3008369d-09c8-40f8-bc69-200575b3b942",
   "metadata": {},
   "source": [
    "### String functions"
   ]
  },
  {
   "cell_type": "code",
   "execution_count": 75,
   "id": "7aebd70f-3b7f-4eb7-83df-bb5e6195721e",
   "metadata": {},
   "outputs": [
    {
     "data": {
      "text/plain": [
       "'     Low mansoon season last year        '"
      ]
     },
     "execution_count": 75,
     "metadata": {},
     "output_type": "execute_result"
    }
   ],
   "source": [
    "str2 = \"     Low mansoon season last year        \"\n",
    "str2"
   ]
  },
  {
   "cell_type": "code",
   "execution_count": 76,
   "id": "cfdbef7c-047c-4561-ae30-124152df02e3",
   "metadata": {},
   "outputs": [
    {
     "data": {
      "text/plain": [
       "'Low mansoon season last year'"
      ]
     },
     "execution_count": 76,
     "metadata": {},
     "output_type": "execute_result"
    }
   ],
   "source": [
    "str2.strip() # by default removes whitespac from start and end"
   ]
  },
  {
   "cell_type": "code",
   "execution_count": 77,
   "id": "824b5b87-7ae4-4c0d-abe8-11d0f93cc00e",
   "metadata": {},
   "outputs": [
    {
     "data": {
      "text/plain": [
       "'     Low mansoon season last year        '"
      ]
     },
     "execution_count": 77,
     "metadata": {},
     "output_type": "execute_result"
    }
   ],
   "source": [
    "str2"
   ]
  },
  {
   "cell_type": "code",
   "execution_count": 78,
   "id": "96a0ff91-55e0-43a9-98d8-a9cc8cd6a68e",
   "metadata": {},
   "outputs": [
    {
     "data": {
      "text/plain": [
       "'Low mansoon season last year'"
      ]
     },
     "execution_count": 78,
     "metadata": {},
     "output_type": "execute_result"
    }
   ],
   "source": [
    "str2 = str2.strip()\n",
    "str2"
   ]
  },
  {
   "cell_type": "code",
   "execution_count": 79,
   "id": "79a7fab6-d43d-443c-8a6a-c6ca40a65950",
   "metadata": {},
   "outputs": [
    {
     "data": {
      "text/plain": [
       "'  @@@@@@$$$$$    77th Year of Independance    %%%%%%     '"
      ]
     },
     "execution_count": 79,
     "metadata": {},
     "output_type": "execute_result"
    }
   ],
   "source": [
    "str3 = \"  @@@@@@$$$$$    77th Year of Independance    %%%%%%     \"\n",
    "str3"
   ]
  },
  {
   "cell_type": "code",
   "execution_count": 80,
   "id": "44a7e287-10a5-4d3a-b602-cdb115158d5b",
   "metadata": {},
   "outputs": [
    {
     "data": {
      "text/plain": [
       "'@@@@@@$$$$$    77th Year of Independance    %%%%%%'"
      ]
     },
     "execution_count": 80,
     "metadata": {},
     "output_type": "execute_result"
    }
   ],
   "source": [
    "str3 = str3.strip() # by default\n",
    "str3"
   ]
  },
  {
   "cell_type": "code",
   "execution_count": 81,
   "id": "59562e63-51c2-485e-b696-4a6c4bd0c9f2",
   "metadata": {},
   "outputs": [
    {
     "data": {
      "text/plain": [
       "'77th Year of Independance'"
      ]
     },
     "execution_count": 81,
     "metadata": {},
     "output_type": "execute_result"
    }
   ],
   "source": [
    "str4 = str3.strip(\"@$ %\")\n",
    "str4"
   ]
  },
  {
   "cell_type": "code",
   "execution_count": 82,
   "id": "aef8f418-22a3-4034-a68f-78de9d6228e6",
   "metadata": {},
   "outputs": [
    {
     "data": {
      "text/plain": [
       "'77th year of independance'"
      ]
     },
     "execution_count": 82,
     "metadata": {},
     "output_type": "execute_result"
    }
   ],
   "source": [
    "# change case to lower\n",
    "str4.lower()"
   ]
  },
  {
   "cell_type": "code",
   "execution_count": 83,
   "id": "7427cefe-4314-4e1b-8b81-4863015d2e1c",
   "metadata": {},
   "outputs": [
    {
     "data": {
      "text/plain": [
       "'77TH YEAR OF INDEPENDANCE'"
      ]
     },
     "execution_count": 83,
     "metadata": {},
     "output_type": "execute_result"
    }
   ],
   "source": [
    "# uppercase\n",
    "str4.upper()"
   ]
  },
  {
   "cell_type": "markdown",
   "id": "0a131b4f-e025-4b0b-97bb-4245167bae31",
   "metadata": {},
   "source": [
    "# partation() breaks up the string into 3 parts:\n",
    "portion before the partation\n",
    "the substring itself\n",
    "portion after the substring"
   ]
  },
  {
   "cell_type": "code",
   "execution_count": 85,
   "id": "0f35f4e1-0c48-46e6-a6c4-c02ab8bb8508",
   "metadata": {},
   "outputs": [
    {
     "name": "stdout",
     "output_type": "stream",
     "text": [
      "RCB vs MI CSK vs DC\n"
     ]
    }
   ],
   "source": [
    "match1 = \"RCB vs MI\"\n",
    "match2 = \"CSK vs DC\"\n",
    "print(match1,match2)"
   ]
  },
  {
   "cell_type": "code",
   "execution_count": 86,
   "id": "d7d4482a-ece0-46ce-ad0d-dc6245ca41ef",
   "metadata": {},
   "outputs": [
    {
     "data": {
      "text/plain": [
       "('RCB', ' vs ', 'MI')"
      ]
     },
     "execution_count": 86,
     "metadata": {},
     "output_type": "execute_result"
    }
   ],
   "source": [
    "match1.partition(\" vs \")"
   ]
  },
  {
   "cell_type": "code",
   "execution_count": 87,
   "id": "1e94a624-1978-4f2e-854c-cc7eb57d4c28",
   "metadata": {},
   "outputs": [
    {
     "data": {
      "text/plain": [
       "('CSK', ' vs ', 'DC')"
      ]
     },
     "execution_count": 87,
     "metadata": {},
     "output_type": "execute_result"
    }
   ],
   "source": [
    "match2.partition(\" vs \")"
   ]
  },
  {
   "cell_type": "code",
   "execution_count": 88,
   "id": "e8827751-fa33-45b2-93d7-ade1cda64446",
   "metadata": {},
   "outputs": [
    {
     "data": {
      "text/plain": [
       "'Mumbai Bangalore Chennai Kolkata Hyderabad Coimbatore Cuttack Delhi'"
      ]
     },
     "execution_count": 88,
     "metadata": {},
     "output_type": "execute_result"
    }
   ],
   "source": [
    "# Split() identifies spaces throughout a string\n",
    "cities = \"Mumbai Bangalore Chennai Kolkata Hyderabad Coimbatore Cuttack Delhi\"\n",
    "cities"
   ]
  },
  {
   "cell_type": "code",
   "execution_count": 89,
   "id": "f75e4074-0dc5-4d65-a0b7-0f9dd912b8cd",
   "metadata": {},
   "outputs": [
    {
     "data": {
      "text/plain": [
       "['Mumbai',\n",
       " 'Bangalore',\n",
       " 'Chennai',\n",
       " 'Kolkata',\n",
       " 'Hyderabad',\n",
       " 'Coimbatore',\n",
       " 'Cuttack',\n",
       " 'Delhi']"
      ]
     },
     "execution_count": 89,
     "metadata": {},
     "output_type": "execute_result"
    }
   ],
   "source": [
    "cities.split()"
   ]
  },
  {
   "cell_type": "code",
   "execution_count": 90,
   "id": "ea103a9e-f060-49ec-b961-5ae6ae1aa0ec",
   "metadata": {},
   "outputs": [
    {
     "data": {
      "text/plain": [
       "7"
      ]
     },
     "execution_count": 90,
     "metadata": {},
     "output_type": "execute_result"
    }
   ],
   "source": [
    "cities.index('Bangalore') # gives the position of a specified character"
   ]
  },
  {
   "cell_type": "code",
   "execution_count": 91,
   "id": "607d344a-ffeb-4173-9a4c-695fd7946075",
   "metadata": {},
   "outputs": [
    {
     "data": {
      "text/plain": [
       "'ml cc ds cv oops dbms ml cc ds cv oops fs fs fs cv cv ds cv'"
      ]
     },
     "execution_count": 91,
     "metadata": {},
     "output_type": "execute_result"
    }
   ],
   "source": [
    "new_str = \"ml cc ds cv oops dbms ml cc ds cv oops fs fs fs cv cv ds cv\"\n",
    "new_str"
   ]
  },
  {
   "cell_type": "code",
   "execution_count": 92,
   "id": "1ca79de2-fcd9-4eef-9021-3df284b0c6ea",
   "metadata": {},
   "outputs": [
    {
     "data": {
      "text/plain": [
       "5"
      ]
     },
     "execution_count": 92,
     "metadata": {},
     "output_type": "execute_result"
    }
   ],
   "source": [
    "new_str.count('cv') # no. of occurrences of substring"
   ]
  },
  {
   "cell_type": "code",
   "execution_count": 93,
   "id": "9ca1a61c-04c9-401b-9e45-622e0ad6810c",
   "metadata": {},
   "outputs": [
    {
     "data": {
      "text/plain": [
       "9"
      ]
     },
     "execution_count": 93,
     "metadata": {},
     "output_type": "execute_result"
    }
   ],
   "source": [
    "new_str.count('s')"
   ]
  },
  {
   "cell_type": "code",
   "execution_count": 94,
   "id": "8458e419-3c75-4583-a377-2fc1bc351160",
   "metadata": {},
   "outputs": [
    {
     "data": {
      "text/plain": [
       "False"
      ]
     },
     "execution_count": 94,
     "metadata": {},
     "output_type": "execute_result"
    }
   ],
   "source": [
    "# String membership[\n",
    "'ML' in new_str  # checks for presence of substring within a string"
   ]
  },
  {
   "cell_type": "code",
   "execution_count": 95,
   "id": "918924ae-9c6b-4c49-ae11-a64f4714c5f8",
   "metadata": {},
   "outputs": [
    {
     "data": {
      "text/plain": [
       "True"
      ]
     },
     "execution_count": 95,
     "metadata": {},
     "output_type": "execute_result"
    }
   ],
   "source": [
    "# String membership[\n",
    "'ml' in new_str  # checks for presence of substring within a string"
   ]
  },
  {
   "cell_type": "markdown",
   "id": "4a42d99a-67a1-4f9d-81ee-de1a3a8c5121",
   "metadata": {},
   "source": [
    "### Format in Print\n",
    "format() in conjuction with placeholders can be used within print()"
   ]
  },
  {
   "cell_type": "code",
   "execution_count": 96,
   "id": "98fa15bf-ebb1-466e-ab07-3a7f0a1644bb",
   "metadata": {},
   "outputs": [
    {
     "name": "stdout",
     "output_type": "stream",
     "text": [
      "Cost of item1 at 200 is comparable to item2 at 300\n"
     ]
    }
   ],
   "source": [
    "item1 = 200\n",
    "item2 = 300 \n",
    "print(\"Cost of item1 at {} is comparable to item2 at {}\".format(item1,item2))"
   ]
  },
  {
   "cell_type": "code",
   "execution_count": 97,
   "id": "a12e04bd-2c9f-42a4-a788-cbf387f2c4d8",
   "metadata": {},
   "outputs": [
    {
     "name": "stdout",
     "output_type": "stream",
     "text": [
      "Potatoes last month were 40 a kg. This month it has come down to 35\n",
      "The average price over 2 months in 2024 is 37.5. It is less than last quarter.\n"
     ]
    }
   ],
   "source": [
    "p_jan = 40\n",
    "p_feb = 35\n",
    "print(\"Potatoes last month were {} a kg. This month it has come down to {}\".format(p_jan,p_feb))\n",
    "print(\"The average price over 2 months in 2024 is {}. It is less than last quarter.\".format((p_jan+p_feb)/2))"
   ]
  },
  {
   "cell_type": "code",
   "execution_count": 98,
   "id": "c21a2b23-136f-4263-8d72-b71216ff1b1c",
   "metadata": {},
   "outputs": [
    {
     "name": "stdout",
     "output_type": "stream",
     "text": [
      "TCS,Infosys and Wipro are software gaints. Wipro is the oldest and started with consumer goods. Infosys is strongly into srevices whereas TCS has a focus on automation products. While TCS began in 1968, Infosys started operations in 1981. TCS is a part os a larger conglomerate in Tata & Sons.\n"
     ]
    }
   ],
   "source": [
    "co1 = \"TCS\"\n",
    "co2 = \"Infosys\"\n",
    "co3 = \"Wipro\"\n",
    "str_co = \"{0},{1} and {2} are software gaints. {2} is the oldest and started with consumer goods. {1} is strongly \\\n",
    "into srevices whereas {0} has a focus on automation products. While {0} began in 1968, {1} started \\\n",
    "operations in 1981. {0} is a part os a larger conglomerate in Tata & Sons.\"\n",
    "print(str_co.format(co1,co2,co3))"
   ]
  },
  {
   "cell_type": "raw",
   "id": "63950aae-4026-4f12-82ed-e42262bac2c8",
   "metadata": {},
   "source": [
    "Assign variables to 4 freedom fighters. Discuss their contributions, any collaborations, ideologies.\n",
    "End with whether, or not they lived to set independence."
   ]
  },
  {
   "cell_type": "markdown",
   "id": "bae548f2-f017-463e-be03-13f69f3190b7",
   "metadata": {},
   "source": [
    "### Operators in Phytpon"
   ]
  },
  {
   "cell_type": "markdown",
   "id": "4619e197-96b0-4a93-94f4-dafce74c6f82",
   "metadata": {},
   "source": [
    "### Logical OPerator"
   ]
  },
  {
   "cell_type": "code",
   "execution_count": 99,
   "id": "a3deef16-c0a6-422f-955e-db1a530ed1d6",
   "metadata": {},
   "outputs": [
    {
     "data": {
      "text/plain": [
       "True"
      ]
     },
     "execution_count": 99,
     "metadata": {},
     "output_type": "execute_result"
    }
   ],
   "source": [
    "256>32 "
   ]
  },
  {
   "cell_type": "code",
   "execution_count": 100,
   "id": "cd2bcbb1-32cf-4588-b011-10648fd4738f",
   "metadata": {},
   "outputs": [
    {
     "data": {
      "text/plain": [
       "False"
      ]
     },
     "execution_count": 100,
     "metadata": {},
     "output_type": "execute_result"
    }
   ],
   "source": [
    "256>1024"
   ]
  },
  {
   "cell_type": "code",
   "execution_count": 101,
   "id": "27ded63e-7c44-44bd-abd2-55d71d9333c8",
   "metadata": {},
   "outputs": [
    {
     "data": {
      "text/plain": [
       "False"
      ]
     },
     "execution_count": 101,
     "metadata": {},
     "output_type": "execute_result"
    }
   ],
   "source": [
    "256>32 and 256>1024 # True and False\n",
    "# and requires all to be True"
   ]
  },
  {
   "cell_type": "code",
   "execution_count": 102,
   "id": "1ff07f99-01da-4640-acbe-b3f365d516a1",
   "metadata": {},
   "outputs": [
    {
     "data": {
      "text/plain": [
       "False"
      ]
     },
     "execution_count": 102,
     "metadata": {},
     "output_type": "execute_result"
    }
   ],
   "source": [
    "256>32 & 256>1024 # True and False\n",
    "#  requires all to be True"
   ]
  },
  {
   "cell_type": "code",
   "execution_count": 103,
   "id": "9b373b9d-467b-4e39-9b1f-d40b9d8c8925",
   "metadata": {},
   "outputs": [
    {
     "data": {
      "text/plain": [
       "True"
      ]
     },
     "execution_count": 103,
     "metadata": {},
     "output_type": "execute_result"
    }
   ],
   "source": [
    "256>32 or 256>1024 # True and False\n",
    "# or requires all to be True"
   ]
  },
  {
   "cell_type": "code",
   "execution_count": 104,
   "id": "83d6412c-2782-4ebc-888f-b1dbf1af7555",
   "metadata": {},
   "outputs": [
    {
     "data": {
      "text/plain": [
       "True"
      ]
     },
     "execution_count": 104,
     "metadata": {},
     "output_type": "execute_result"
    }
   ],
   "source": [
    "not 45>4005 # reverse the result"
   ]
  },
  {
   "cell_type": "code",
   "execution_count": 105,
   "id": "6fc2c0fe-001d-4ff4-98e9-7eed647e1923",
   "metadata": {},
   "outputs": [
    {
     "data": {
      "text/plain": [
       "float"
      ]
     },
     "execution_count": 105,
     "metadata": {},
     "output_type": "execute_result"
    }
   ],
   "source": [
    "var_1 = 100/4\n",
    "type(var_1)"
   ]
  },
  {
   "cell_type": "code",
   "execution_count": 106,
   "id": "60d6951d-5249-455c-ac29-56bb1e8ffa77",
   "metadata": {},
   "outputs": [
    {
     "data": {
      "text/plain": [
       "int"
      ]
     },
     "execution_count": 106,
     "metadata": {},
     "output_type": "execute_result"
    }
   ],
   "source": [
    "var_2 = 10+15\n",
    "type(var_2)"
   ]
  },
  {
   "cell_type": "code",
   "execution_count": 107,
   "id": "12128b78-b3e9-4dd6-9adf-2808cac6844d",
   "metadata": {},
   "outputs": [
    {
     "name": "stdout",
     "output_type": "stream",
     "text": [
      "25.0 25\n"
     ]
    }
   ],
   "source": [
    "print(var_1,var_2)"
   ]
  },
  {
   "cell_type": "code",
   "execution_count": 108,
   "id": "b95d11d0-e25a-4a4f-9192-e6abe11c5d43",
   "metadata": {},
   "outputs": [
    {
     "data": {
      "text/plain": [
       "True"
      ]
     },
     "execution_count": 108,
     "metadata": {},
     "output_type": "execute_result"
    }
   ],
   "source": [
    "var_1 == var_2 # equality of value"
   ]
  },
  {
   "cell_type": "code",
   "execution_count": 109,
   "id": "f321c10e-ab81-4e97-9492-c7f821d0b64d",
   "metadata": {},
   "outputs": [
    {
     "data": {
      "text/plain": [
       "False"
      ]
     },
     "execution_count": 109,
     "metadata": {},
     "output_type": "execute_result"
    }
   ],
   "source": [
    "var_1 is var_2 # checks weather both point to the same location"
   ]
  },
  {
   "cell_type": "code",
   "execution_count": 110,
   "id": "5f9b133d-0c1b-4af3-b10e-14be6dfdd7b4",
   "metadata": {},
   "outputs": [
    {
     "data": {
      "text/plain": [
       "True"
      ]
     },
     "execution_count": 110,
     "metadata": {},
     "output_type": "execute_result"
    }
   ],
   "source": [
    "var_1 is not var_2"
   ]
  },
  {
   "cell_type": "markdown",
   "id": "9376a7b6-5966-4274-ac74-985fa46dbb56",
   "metadata": {},
   "source": [
    "## if-else conditions statements"
   ]
  },
  {
   "cell_type": "code",
   "execution_count": 111,
   "id": "ef5cd767-dd94-4033-8f95-d0101f97056a",
   "metadata": {},
   "outputs": [
    {
     "name": "stdout",
     "output_type": "stream",
     "text": [
      "Independent of the condition\n"
     ]
    }
   ],
   "source": [
    "age = 15\n",
    "if age>=18:\n",
    "    print(age)\n",
    "    print(\"age of person is {} and person is an adult.\".formate(age))\n",
    "print(\"Independent of the condition\") # out of block"
   ]
  },
  {
   "cell_type": "code",
   "execution_count": 112,
   "id": "cd036d9e-60f4-4b38-827f-7735bcfb8603",
   "metadata": {},
   "outputs": [
    {
     "name": "stdout",
     "output_type": "stream",
     "text": [
      "Value of x is 20\n",
      "Condition not satisfied\n",
      "out of if-else blocks of code\n"
     ]
    }
   ],
   "source": [
    "x = 20\n",
    "if x>=25:\n",
    "    print (\"Condition met\")\n",
    "else:\n",
    "    print(\"Value of x is\",x)\n",
    "    print(\"Condition not satisfied\")\n",
    "print(\"out of if-else blocks of code\") # independent"
   ]
  },
  {
   "cell_type": "markdown",
   "id": "c57946f5-3e47-4089-b241-e6f62b364906",
   "metadata": {},
   "source": [
    "### Input function"
   ]
  },
  {
   "cell_type": "code",
   "execution_count": 113,
   "id": "e84a0b10-a86f-4908-9ed6-5e4a40ae0882",
   "metadata": {},
   "outputs": [
    {
     "name": "stdin",
     "output_type": "stream",
     "text": [
      "Enter the name 22\n"
     ]
    }
   ],
   "source": [
    "name = input(\"Enter the name\") # prompt within brackets"
   ]
  },
  {
   "cell_type": "code",
   "execution_count": 114,
   "id": "7c8558e4-70c5-4be3-a170-0de7d6830485",
   "metadata": {},
   "outputs": [
    {
     "name": "stdout",
     "output_type": "stream",
     "text": [
      "22\n"
     ]
    }
   ],
   "source": [
    "print(name)"
   ]
  },
  {
   "cell_type": "code",
   "execution_count": 115,
   "id": "b77fbc3d-1b96-49d5-8673-b2c7530e16d6",
   "metadata": {},
   "outputs": [
    {
     "name": "stdin",
     "output_type": "stream",
     "text": [
      "Enter the score out of 100 25\n"
     ]
    }
   ],
   "source": [
    "score = input(\"Enter the score out of 100\")"
   ]
  },
  {
   "cell_type": "code",
   "execution_count": 116,
   "id": "f7670ce8-244a-4bd6-9b4f-f1bc632625c4",
   "metadata": {},
   "outputs": [
    {
     "data": {
      "text/plain": [
       "'25'"
      ]
     },
     "execution_count": 116,
     "metadata": {},
     "output_type": "execute_result"
    }
   ],
   "source": [
    "score"
   ]
  },
  {
   "cell_type": "code",
   "execution_count": 117,
   "id": "aa29a607-e79b-4196-af55-f936a8495b1e",
   "metadata": {},
   "outputs": [
    {
     "data": {
      "text/plain": [
       "str"
      ]
     },
     "execution_count": 117,
     "metadata": {},
     "output_type": "execute_result"
    }
   ],
   "source": [
    "type(score)"
   ]
  },
  {
   "cell_type": "code",
   "execution_count": 118,
   "id": "f34ae8a3-0de3-4455-a7d4-58f032fa4079",
   "metadata": {},
   "outputs": [
    {
     "name": "stdin",
     "output_type": "stream",
     "text": [
      "Score with 100 has a maximum: 55\n"
     ]
    }
   ],
   "source": [
    "score1 = int(input(\"Score with 100 has a maximum:\"))"
   ]
  },
  {
   "cell_type": "code",
   "execution_count": 119,
   "id": "d3c3f8a1-bd7a-42d2-8c99-0e10a88fa7eb",
   "metadata": {},
   "outputs": [
    {
     "name": "stdout",
     "output_type": "stream",
     "text": [
      "55 <class 'int'>\n"
     ]
    }
   ],
   "source": [
    "print(score1, type(score1))"
   ]
  },
  {
   "cell_type": "code",
   "execution_count": 120,
   "id": "6ba66412-8fdc-44be-a62b-7c9f0c0b61cf",
   "metadata": {},
   "outputs": [
    {
     "name": "stdin",
     "output_type": "stream",
     "text": [
      "Enter the number 23\n"
     ]
    },
    {
     "name": "stdout",
     "output_type": "stream",
     "text": [
      "The number 23 is odd.\n",
      "Validation completed\n"
     ]
    }
   ],
   "source": [
    "# check wheathe the user value is even or add\n",
    "num = int(input(\"Enter the number\"))\n",
    "if num%2==0:\n",
    "    print(f\"The number {num} is even.\")\n",
    "else:\n",
    "    print(f\"The number {num} is odd.\")\n",
    "print(\"Validation completed\") # out of if-else condition"
   ]
  },
  {
   "cell_type": "code",
   "execution_count": 121,
   "id": "271d5b09-fc7d-4b0a-a292-647a9a4c6af4",
   "metadata": {},
   "outputs": [
    {
     "name": "stdin",
     "output_type": "stream",
     "text": [
      "Enter the number 1\n"
     ]
    },
    {
     "name": "stdout",
     "output_type": "stream",
     "text": [
      "The number 1 is odd.\n",
      "Validation completed\n"
     ]
    }
   ],
   "source": [
    "# check wheathe the user value is even or add\n",
    "num = int(input(\"Enter the number\"))\n",
    "if num%2==0:\n",
    "    print(f\"The number {num} is even.\")\n",
    "else:\n",
    "    print(f\"The number {num} is odd.\")\n",
    "print(\"Validation completed\") # out of if-else condition"
   ]
  },
  {
   "cell_type": "code",
   "execution_count": 122,
   "id": "9ecdb5e4-0aa1-4059-bf29-93e495cedfae",
   "metadata": {},
   "outputs": [
    {
     "name": "stdin",
     "output_type": "stream",
     "text": [
      "Enter the number: 0\n"
     ]
    },
    {
     "name": "stdout",
     "output_type": "stream",
     "text": [
      "the number Zero is negative positive nor negative.\n",
      "Validation complete\n"
     ]
    }
   ],
   "source": [
    "# weather the user number is positive or negative.\n",
    "num = int(input(\"Enter the number:\"))\n",
    "if num>0:\n",
    "    print(f\"The number {num} is positive.\")\n",
    "elif num==0:\n",
    "    print(\"the number Zero is negative positive nor negative.\")\n",
    "else:\n",
    "    print(f\"the number {num} is negative.\")\n",
    "\n",
    "print(\"Validation complete\")"
   ]
  },
  {
   "cell_type": "code",
   "execution_count": 123,
   "id": "c6ddd676-01e6-485e-ab22-6f989c4db8c9",
   "metadata": {},
   "outputs": [
    {
     "name": "stdin",
     "output_type": "stream",
     "text": [
      "Enter the number: 2\n"
     ]
    },
    {
     "name": "stdout",
     "output_type": "stream",
     "text": [
      "The number 2 is positive.\n",
      "Validation complete\n"
     ]
    }
   ],
   "source": [
    "num = int(input(\"Enter the number:\"))\n",
    "if num>0:\n",
    "    print(f\"The number {num} is positive.\")\n",
    "elif num==0:\n",
    "    print(\"the number Zero is negative positive nor negative.\")\n",
    "else:\n",
    "    print(f\"the number {num} is negative.\")\n",
    "\n",
    "print(\"Validation complete\")"
   ]
  },
  {
   "cell_type": "code",
   "execution_count": 124,
   "id": "afd9f3a8-20d0-494a-a934-982527839578",
   "metadata": {},
   "outputs": [
    {
     "name": "stdin",
     "output_type": "stream",
     "text": [
      "Enter the number: 3\n"
     ]
    },
    {
     "name": "stdout",
     "output_type": "stream",
     "text": [
      "The number 3 is positive.\n",
      "Validation complete\n"
     ]
    }
   ],
   "source": [
    "num = int(input(\"Enter the number:\"))\n",
    "if num>0:\n",
    "    print(f\"The number {num} is positive.\")\n",
    "elif num==0:\n",
    "    print(\"the number Zero is negative positive nor negative.\")\n",
    "else:\n",
    "    print(f\"the number {num} is negative.\")\n",
    "\n",
    "print(\"Validation complete\")"
   ]
  },
  {
   "cell_type": "code",
   "execution_count": 125,
   "id": "c4c4a078-a244-470f-8cff-83d8350bd181",
   "metadata": {},
   "outputs": [
    {
     "name": "stdin",
     "output_type": "stream",
     "text": [
      "Enter the number: 5\n"
     ]
    },
    {
     "name": "stdout",
     "output_type": "stream",
     "text": [
      "The number 5.0 is positive.\n",
      "Validation complete\n"
     ]
    }
   ],
   "source": [
    "num = float(input(\"Enter the number:\"))\n",
    "if num>0:\n",
    "    print(f\"The number {num} is positive.\")\n",
    "elif num==0:\n",
    "    print(\"the number Zero is negative positive nor negative.\")\n",
    "else:\n",
    "    print(f\"the number {num} is negative.\")\n",
    "\n",
    "print(\"Validation complete\")"
   ]
  },
  {
   "cell_type": "markdown",
   "id": "991903ab-b46a-4046-bcc9-fb6a85ad4b45",
   "metadata": {},
   "source": [
    "## Nested if condition statements"
   ]
  },
  {
   "cell_type": "code",
   "execution_count": 126,
   "id": "7a10f770-a36c-4111-a198-3dd25555406f",
   "metadata": {},
   "outputs": [
    {
     "name": "stdin",
     "output_type": "stream",
     "text": [
      "Enter applicant age 3\n"
     ]
    },
    {
     "name": "stdout",
     "output_type": "stream",
     "text": [
      "Applicant is a major and not eligible.\n",
      "Above is true for applicant age of 3\n",
      "Tested for age condition\n"
     ]
    }
   ],
   "source": [
    "# Application for CEO position\n",
    "\n",
    "age1 = int(input(\"Enter applicant age\"))\n",
    "if age1>=18: # most likely to be True(therefore choosen as parent if)\n",
    "    print(\"Applicant is an adult.\")\n",
    "    if age1>25:\n",
    "        print(\"Applicant has graduated.\")\n",
    "        print(\"May have experience\")\n",
    "        if age1>35:\n",
    "            print(\"Likely to have at least 10 years experience\")\n",
    "    else:\n",
    "        print(\"Freshers with minimal experience\")\n",
    "else:\n",
    "    print(\"Applicant is a major and not eligible.\")\n",
    "print(\"Above is true for applicant age of\",age1)\n",
    "print(\"Tested for age condition\")"
   ]
  },
  {
   "cell_type": "code",
   "execution_count": 127,
   "id": "5c0c1e39-d94e-4f41-b673-745eaf170864",
   "metadata": {},
   "outputs": [
    {
     "data": {
      "text/plain": [
       "datetime.date(1929, 8, 14)"
      ]
     },
     "execution_count": 127,
     "metadata": {},
     "output_type": "execute_result"
    }
   ],
   "source": [
    "from datetime import date\n",
    "date1 = date(1929,8,14) # year,month,day\n",
    "date1"
   ]
  },
  {
   "cell_type": "code",
   "execution_count": 128,
   "id": "15cc43f8-766c-4806-8ac9-81252c6a2de0",
   "metadata": {},
   "outputs": [
    {
     "data": {
      "text/plain": [
       "datetime.date"
      ]
     },
     "execution_count": 128,
     "metadata": {},
     "output_type": "execute_result"
    }
   ],
   "source": [
    "type(date1)"
   ]
  },
  {
   "cell_type": "code",
   "execution_count": 129,
   "id": "9d0e3be9-3651-489c-a3dd-f605ee6bc920",
   "metadata": {},
   "outputs": [
    {
     "data": {
      "text/plain": [
       "1929"
      ]
     },
     "execution_count": 129,
     "metadata": {},
     "output_type": "execute_result"
    }
   ],
   "source": [
    "date1.year # attribute of date1"
   ]
  },
  {
   "cell_type": "code",
   "execution_count": 130,
   "id": "1b5187da-68d4-4562-afd3-8e12dd22109d",
   "metadata": {},
   "outputs": [
    {
     "data": {
      "text/plain": [
       "8"
      ]
     },
     "execution_count": 130,
     "metadata": {},
     "output_type": "execute_result"
    }
   ],
   "source": [
    "date1.month # attribute of date1"
   ]
  },
  {
   "cell_type": "code",
   "execution_count": 131,
   "id": "e0e9761d-ced4-4517-90b6-f4eb2d77e1ac",
   "metadata": {},
   "outputs": [
    {
     "data": {
      "text/plain": [
       "3"
      ]
     },
     "execution_count": 131,
     "metadata": {},
     "output_type": "execute_result"
    }
   ],
   "source": [
    "date1.isoweekday() # what day of the week"
   ]
  },
  {
   "cell_type": "code",
   "execution_count": 132,
   "id": "b1db1365-f682-4b1d-9700-67ca3ac28511",
   "metadata": {},
   "outputs": [
    {
     "data": {
      "text/plain": [
       "datetime.datetime(2024, 6, 1, 19, 25, 25, 557353)"
      ]
     },
     "execution_count": 132,
     "metadata": {},
     "output_type": "execute_result"
    }
   ],
   "source": [
    "from datetime import datetime as dt\n",
    "present_time = dt.now()\n",
    "present_time"
   ]
  },
  {
   "cell_type": "code",
   "execution_count": 133,
   "id": "408164f4-cc4d-424e-bb50-bbf21a316ff0",
   "metadata": {},
   "outputs": [
    {
     "data": {
      "text/plain": [
       "25"
      ]
     },
     "execution_count": 133,
     "metadata": {},
     "output_type": "execute_result"
    }
   ],
   "source": [
    "present_time.minute"
   ]
  },
  {
   "cell_type": "code",
   "execution_count": 134,
   "id": "888aa9f1-a547-48d9-a64e-87705dc7c024",
   "metadata": {},
   "outputs": [
    {
     "data": {
      "text/plain": [
       "19"
      ]
     },
     "execution_count": 134,
     "metadata": {},
     "output_type": "execute_result"
    }
   ],
   "source": [
    "present_time.hour"
   ]
  },
  {
   "cell_type": "code",
   "execution_count": 135,
   "id": "988f474d-65a0-4a38-b282-a3bcc274be37",
   "metadata": {},
   "outputs": [
    {
     "data": {
      "text/plain": [
       "25"
      ]
     },
     "execution_count": 135,
     "metadata": {},
     "output_type": "execute_result"
    }
   ],
   "source": [
    "present_time.second"
   ]
  },
  {
   "cell_type": "code",
   "execution_count": 136,
   "id": "5ca43dc2-a373-4751-b134-d876be3b2e4a",
   "metadata": {},
   "outputs": [
    {
     "data": {
      "text/plain": [
       "['__add__',\n",
       " '__class__',\n",
       " '__delattr__',\n",
       " '__dir__',\n",
       " '__doc__',\n",
       " '__eq__',\n",
       " '__format__',\n",
       " '__ge__',\n",
       " '__getattribute__',\n",
       " '__getstate__',\n",
       " '__gt__',\n",
       " '__hash__',\n",
       " '__init__',\n",
       " '__init_subclass__',\n",
       " '__le__',\n",
       " '__lt__',\n",
       " '__ne__',\n",
       " '__new__',\n",
       " '__radd__',\n",
       " '__reduce__',\n",
       " '__reduce_ex__',\n",
       " '__repr__',\n",
       " '__rsub__',\n",
       " '__setattr__',\n",
       " '__sizeof__',\n",
       " '__str__',\n",
       " '__sub__',\n",
       " '__subclasshook__',\n",
       " 'astimezone',\n",
       " 'combine',\n",
       " 'ctime',\n",
       " 'date',\n",
       " 'day',\n",
       " 'dst',\n",
       " 'fold',\n",
       " 'fromisocalendar',\n",
       " 'fromisoformat',\n",
       " 'fromordinal',\n",
       " 'fromtimestamp',\n",
       " 'hour',\n",
       " 'isocalendar',\n",
       " 'isoformat',\n",
       " 'isoweekday',\n",
       " 'max',\n",
       " 'microsecond',\n",
       " 'min',\n",
       " 'minute',\n",
       " 'month',\n",
       " 'now',\n",
       " 'replace',\n",
       " 'resolution',\n",
       " 'second',\n",
       " 'strftime',\n",
       " 'strptime',\n",
       " 'time',\n",
       " 'timestamp',\n",
       " 'timetuple',\n",
       " 'timetz',\n",
       " 'today',\n",
       " 'toordinal',\n",
       " 'tzinfo',\n",
       " 'tzname',\n",
       " 'utcfromtimestamp',\n",
       " 'utcnow',\n",
       " 'utcoffset',\n",
       " 'utctimetuple',\n",
       " 'weekday',\n",
       " 'year']"
      ]
     },
     "execution_count": 136,
     "metadata": {},
     "output_type": "execute_result"
    }
   ],
   "source": [
    "dir(dt)"
   ]
  },
  {
   "cell_type": "code",
   "execution_count": 137,
   "id": "55ba713b-5679-436e-920f-5c3dc758ac93",
   "metadata": {},
   "outputs": [
    {
     "data": {
      "text/plain": [
       "datetime.date(2024, 10, 29)"
      ]
     },
     "execution_count": 137,
     "metadata": {},
     "output_type": "execute_result"
    }
   ],
   "source": [
    "from datetime import date,timedelta\n",
    "# find date after 150 days\n",
    "today1 = date.today()\n",
    "date_150 = today1 + timedelta(days=150)\n",
    "date_150"
   ]
  },
  {
   "cell_type": "code",
   "execution_count": 138,
   "id": "33d5a5b5-e935-4d28-a909-5361d6d8eae1",
   "metadata": {},
   "outputs": [
    {
     "data": {
      "text/plain": [
       "datetime.date(2024, 11, 3)"
      ]
     },
     "execution_count": 138,
     "metadata": {},
     "output_type": "execute_result"
    }
   ],
   "source": [
    "# find date after 155 days\n",
    "today1 = date.today()\n",
    "date_155 = today1 + timedelta(days=155)\n",
    "date_155"
   ]
  },
  {
   "cell_type": "markdown",
   "id": "f4db7ef9-bdb7-425d-a2ec-ef89eb0dc36d",
   "metadata": {},
   "source": [
    "### Compute your age after 5000 days."
   ]
  },
  {
   "cell_type": "code",
   "execution_count": 139,
   "id": "52bd886a-013d-44d8-bae5-12611aaa5810",
   "metadata": {},
   "outputs": [
    {
     "data": {
      "text/plain": [
       "datetime.date(2038, 2, 8)"
      ]
     },
     "execution_count": 139,
     "metadata": {},
     "output_type": "execute_result"
    }
   ],
   "source": [
    "# find age after 5000 days\n",
    "today2 = date.today()\n",
    "date_5000 = today2 + timedelta(days=5000)\n",
    "date_5000"
   ]
  },
  {
   "cell_type": "markdown",
   "id": "7809c0be-c9bc-4ade-9b96-e6c894c0afc2",
   "metadata": {},
   "source": [
    "### Data structure\n",
    "- A grouping of data for ease of operations\n",
    "- Structures may be ordered or unordered, each structure with different properties\n"
   ]
  },
  {
   "cell_type": "markdown",
   "id": "3e1a224c-29f3-4a2c-b9f1-ecce21a35802",
   "metadata": {},
   "source": [
    "## Lists\n",
    "An ordered sequence of items. List is known for its flexibility."
   ]
  },
  {
   "cell_type": "code",
   "execution_count": 140,
   "id": "460f8557-d386-4777-93fb-a0a9a84f5690",
   "metadata": {},
   "outputs": [
    {
     "name": "stdout",
     "output_type": "stream",
     "text": [
      "[] []\n"
     ]
    }
   ],
   "source": [
    "# Empty List\n",
    "list1 = []\n",
    "list2 = list()\n",
    "print(list1,list2)"
   ]
  },
  {
   "cell_type": "code",
   "execution_count": 141,
   "id": "5a1f3a6b-65f0-4ab8-a56c-f71c5c572206",
   "metadata": {},
   "outputs": [
    {
     "data": {
      "text/plain": [
       "[56, 44, 28, 98, 77, 67, 56, 45, 56]"
      ]
     },
     "execution_count": 141,
     "metadata": {},
     "output_type": "execute_result"
    }
   ],
   "source": [
    "list_num = [56,44,28,98,77,67,56,45,56]\n",
    "list_num"
   ]
  },
  {
   "cell_type": "code",
   "execution_count": 142,
   "id": "b56efdcd-5084-4af9-b9c1-d17ec19286b0",
   "metadata": {},
   "outputs": [
    {
     "data": {
      "text/plain": [
       "[77, 459, -90.82, 9.81, False, 'Good morning']"
      ]
     },
     "execution_count": 142,
     "metadata": {},
     "output_type": "execute_result"
    }
   ],
   "source": [
    "list_mix = [77,459,-90.82,9.81, False, \"Good morning\"]\n",
    "list_mix"
   ]
  },
  {
   "cell_type": "code",
   "execution_count": 143,
   "id": "790c49e2-1c51-4caa-8c4e-edadb7760a69",
   "metadata": {},
   "outputs": [
    {
     "data": {
      "text/plain": [
       "6"
      ]
     },
     "execution_count": 143,
     "metadata": {},
     "output_type": "execute_result"
    }
   ],
   "source": [
    "len(list_mix)"
   ]
  },
  {
   "cell_type": "code",
   "execution_count": 144,
   "id": "b1207a38-4389-4529-b3c0-1791b5240dc6",
   "metadata": {},
   "outputs": [
    {
     "data": {
      "text/plain": [
       "False"
      ]
     },
     "execution_count": 144,
     "metadata": {},
     "output_type": "execute_result"
    }
   ],
   "source": [
    "list_mix[4]"
   ]
  },
  {
   "cell_type": "code",
   "execution_count": 145,
   "id": "49612765-531c-4116-828f-11dbd062214b",
   "metadata": {},
   "outputs": [
    {
     "data": {
      "text/plain": [
       "[77, 459, -90.82, 9.81, False]"
      ]
     },
     "execution_count": 145,
     "metadata": {},
     "output_type": "execute_result"
    }
   ],
   "source": [
    "list_mix[:5]"
   ]
  },
  {
   "cell_type": "code",
   "execution_count": 146,
   "id": "9cac22c3-d7ad-4e83-955c-18e84f5fd9e1",
   "metadata": {},
   "outputs": [
    {
     "data": {
      "text/plain": [
       "67"
      ]
     },
     "execution_count": 146,
     "metadata": {},
     "output_type": "execute_result"
    }
   ],
   "source": [
    "list_num[5]"
   ]
  },
  {
   "cell_type": "code",
   "execution_count": 147,
   "id": "d7e1f9f7-d813-4414-9fb2-4bafa1df5291",
   "metadata": {},
   "outputs": [
    {
     "data": {
      "text/plain": [
       "[77, 459, -90.82, 9.81, True, 'Good morning']"
      ]
     },
     "execution_count": 147,
     "metadata": {},
     "output_type": "execute_result"
    }
   ],
   "source": [
    "list_mix[4] = True\n",
    "list_mix"
   ]
  },
  {
   "cell_type": "code",
   "execution_count": 148,
   "id": "07911ffc-e3a9-4df9-bfd7-ce2c8537a483",
   "metadata": {},
   "outputs": [
    {
     "data": {
      "text/plain": [
       "[56, 44, 28, 98, 77, 99, 56, 45, 56]"
      ]
     },
     "execution_count": 148,
     "metadata": {},
     "output_type": "execute_result"
    }
   ],
   "source": [
    "list_num[5] = 99\n",
    "list_num"
   ]
  },
  {
   "cell_type": "markdown",
   "id": "0fcf4c44-93cd-4497-aa2a-d0ca80b0b557",
   "metadata": {},
   "source": [
    "### List functions\n",
    "Afunction for a list modifies the struvture"
   ]
  },
  {
   "cell_type": "code",
   "execution_count": 149,
   "id": "8c7003aa-440d-4521-9bb6-590b5fcd355f",
   "metadata": {},
   "outputs": [
    {
     "data": {
      "text/plain": [
       "['Value', 'Asset', 'Time']"
      ]
     },
     "execution_count": 149,
     "metadata": {},
     "output_type": "execute_result"
    }
   ],
   "source": [
    "#  Relationship with money\n",
    "rel_money = ['Value','Asset','Time']\n",
    "rel_money"
   ]
  },
  {
   "cell_type": "code",
   "execution_count": 150,
   "id": "67d3de0c-51f0-4b24-bd9d-c3ed3a259634",
   "metadata": {},
   "outputs": [],
   "source": [
    "# Adding a single item to the end\n",
    "rel_money.append('Lifestyle')"
   ]
  },
  {
   "cell_type": "code",
   "execution_count": 151,
   "id": "4400838f-ad18-4870-a2de-d5eb322860d2",
   "metadata": {},
   "outputs": [
    {
     "data": {
      "text/plain": [
       "['Value', 'Asset', 'Time', 'Lifestyle']"
      ]
     },
     "execution_count": 151,
     "metadata": {},
     "output_type": "execute_result"
    }
   ],
   "source": [
    "rel_money"
   ]
  },
  {
   "cell_type": "code",
   "execution_count": 152,
   "id": "484710bf-a63c-4280-ac56-2267b5a7a689",
   "metadata": {},
   "outputs": [
    {
     "data": {
      "text/plain": [
       "['Value',\n",
       " 'Asset',\n",
       " 'Time',\n",
       " 'Lifestyle',\n",
       " 'Patience',\n",
       " 'Expenses',\n",
       " 'Responsibllities']"
      ]
     },
     "execution_count": 152,
     "metadata": {},
     "output_type": "execute_result"
    }
   ],
   "source": [
    "# Add multple items to the end\n",
    "rel_money.extend([ 'Patience', 'Expenses', 'Responsibllities' ])\n",
    "rel_money"
   ]
  },
  {
   "cell_type": "code",
   "execution_count": 153,
   "id": "7cd25e44-dcb4-4e7b-8439-b04a409f3367",
   "metadata": {},
   "outputs": [],
   "source": [
    "# Inserting at a specified position\n",
    "rel_money.insert(3,'Education')"
   ]
  },
  {
   "cell_type": "code",
   "execution_count": 154,
   "id": "0788422f-3b19-4e05-8a5e-93b00e5f8b57",
   "metadata": {},
   "outputs": [
    {
     "data": {
      "text/plain": [
       "['Value',\n",
       " 'Asset',\n",
       " 'Time',\n",
       " 'Education',\n",
       " 'Lifestyle',\n",
       " 'Patience',\n",
       " 'Expenses',\n",
       " 'Responsibllities']"
      ]
     },
     "execution_count": 154,
     "metadata": {},
     "output_type": "execute_result"
    }
   ],
   "source": [
    "rel_money"
   ]
  },
  {
   "cell_type": "code",
   "execution_count": 155,
   "id": "c0d393f2-e367-46a0-86ea-2c06229b199f",
   "metadata": {},
   "outputs": [
    {
     "data": {
      "text/plain": [
       "'Responsibllities'"
      ]
     },
     "execution_count": 155,
     "metadata": {},
     "output_type": "execute_result"
    }
   ],
   "source": [
    "# Removal of items\n",
    "rel_money.pop() # by default removes last item"
   ]
  },
  {
   "cell_type": "code",
   "execution_count": 156,
   "id": "30aa08e9-a1df-4546-b634-eebb776512b2",
   "metadata": {},
   "outputs": [
    {
     "data": {
      "text/plain": [
       "['Value', 'Asset', 'Time', 'Education', 'Lifestyle', 'Patience', 'Expenses']"
      ]
     },
     "execution_count": 156,
     "metadata": {},
     "output_type": "execute_result"
    }
   ],
   "source": [
    "rel_money"
   ]
  },
  {
   "cell_type": "code",
   "execution_count": 157,
   "id": "828b889b-7d65-4e71-8ffd-ddf78d65d058",
   "metadata": {},
   "outputs": [
    {
     "data": {
      "text/plain": [
       "'Lifestyle'"
      ]
     },
     "execution_count": 157,
     "metadata": {},
     "output_type": "execute_result"
    }
   ],
   "source": [
    "rel_money.pop(-3) # removes by its position"
   ]
  },
  {
   "cell_type": "code",
   "execution_count": 158,
   "id": "e34f8794-4291-45d1-b3c5-8854679ec385",
   "metadata": {},
   "outputs": [
    {
     "data": {
      "text/plain": [
       "['Value', 'Asset', 'Time', 'Education', 'Patience', 'Expenses']"
      ]
     },
     "execution_count": 158,
     "metadata": {},
     "output_type": "execute_result"
    }
   ],
   "source": [
    "rel_money"
   ]
  },
  {
   "cell_type": "code",
   "execution_count": 159,
   "id": "c74a4cee-879d-4406-85f1-27c6986568c3",
   "metadata": {},
   "outputs": [
    {
     "data": {
      "text/plain": [
       "['Value', 'Asset', 'Education', 'Patience', 'Expenses']"
      ]
     },
     "execution_count": 159,
     "metadata": {},
     "output_type": "execute_result"
    }
   ],
   "source": [
    "# removal by item\n",
    "rel_money.remove('Time')\n",
    "rel_money"
   ]
  },
  {
   "cell_type": "code",
   "execution_count": 160,
   "id": "1a2ebb35-c7de-4126-8356-482169563669",
   "metadata": {},
   "outputs": [
    {
     "data": {
      "text/plain": [
       "['Value', 'Asset', 'Education', 'Patience', 'Expenses', 'Income', 'Income']"
      ]
     },
     "execution_count": 160,
     "metadata": {},
     "output_type": "execute_result"
    }
   ],
   "source": [
    "rel_money.extend(['Income','Income'])\n",
    "rel_money"
   ]
  },
  {
   "cell_type": "code",
   "execution_count": 161,
   "id": "6eff9f54-27fe-4f71-95ca-efdd9b8cfb8b",
   "metadata": {},
   "outputs": [
    {
     "data": {
      "text/plain": [
       "['Value', 'Asset', 'Education', 'Patience', 'Expenses', 'Income']"
      ]
     },
     "execution_count": 161,
     "metadata": {},
     "output_type": "execute_result"
    }
   ],
   "source": [
    "rel_money.remove('Income')\n",
    "rel_money"
   ]
  },
  {
   "cell_type": "code",
   "execution_count": 162,
   "id": "e05b412a-99de-42ec-91f8-4fa112eaf6ec",
   "metadata": {},
   "outputs": [],
   "source": [
    "del rel_money[2:]"
   ]
  },
  {
   "cell_type": "code",
   "execution_count": 163,
   "id": "54cba648-c704-4930-be4a-f4025880f56c",
   "metadata": {},
   "outputs": [
    {
     "data": {
      "text/plain": [
       "['Value', 'Asset']"
      ]
     },
     "execution_count": 163,
     "metadata": {},
     "output_type": "execute_result"
    }
   ],
   "source": [
    "rel_money"
   ]
  },
  {
   "cell_type": "code",
   "execution_count": 164,
   "id": "338e6059-3e72-47b6-8322-40e7b6dc3ba9",
   "metadata": {},
   "outputs": [
    {
     "data": {
      "text/plain": [
       "['wind', 'Water', 'Fire', 'Sky', 'Earth', 'Ether']"
      ]
     },
     "execution_count": 164,
     "metadata": {},
     "output_type": "execute_result"
    }
   ],
   "source": [
    "elements1 = ['wind','Water','Fire']\n",
    "elements2 = ['Sky','Earth','Ether']\n",
    "# Concatenate using + Operator\n",
    "elements1 + elements2"
   ]
  },
  {
   "cell_type": "code",
   "execution_count": 165,
   "id": "d114f667-c8e5-4152-8d8f-6930930b7ffa",
   "metadata": {},
   "outputs": [
    {
     "data": {
      "text/plain": [
       "[77, 459, -90.82, 9.81, True, 'Good morning']"
      ]
     },
     "execution_count": 165,
     "metadata": {},
     "output_type": "execute_result"
    }
   ],
   "source": [
    "list_mix"
   ]
  },
  {
   "cell_type": "code",
   "execution_count": 166,
   "id": "85848ea3-d96c-4628-b891-80c730fc3899",
   "metadata": {},
   "outputs": [
    {
     "data": {
      "text/plain": [
       "True"
      ]
     },
     "execution_count": 166,
     "metadata": {},
     "output_type": "execute_result"
    }
   ],
   "source": [
    "# All() checks fo r each item to be True\n",
    "all(list_mix)"
   ]
  },
  {
   "cell_type": "code",
   "execution_count": 167,
   "id": "6c71ca84-c333-4036-8700-90f0302009b3",
   "metadata": {},
   "outputs": [
    {
     "data": {
      "text/plain": [
       "[77, 459, -90.82, 9.81, True, 'Good morning', 0]"
      ]
     },
     "execution_count": 167,
     "metadata": {},
     "output_type": "execute_result"
    }
   ],
   "source": [
    "list_mix.append(0)\n",
    "list_mix"
   ]
  },
  {
   "cell_type": "code",
   "execution_count": 168,
   "id": "71861c9d-d201-468c-a56a-9895307b62ce",
   "metadata": {},
   "outputs": [
    {
     "data": {
      "text/plain": [
       "False"
      ]
     },
     "execution_count": 168,
     "metadata": {},
     "output_type": "execute_result"
    }
   ],
   "source": [
    "all(list_mix)"
   ]
  },
  {
   "cell_type": "code",
   "execution_count": 169,
   "id": "67c12662-1ab2-4a2d-9894-c504aa80d050",
   "metadata": {},
   "outputs": [
    {
     "data": {
      "text/plain": [
       "True"
      ]
     },
     "execution_count": 169,
     "metadata": {},
     "output_type": "execute_result"
    }
   ],
   "source": [
    "# any() requires any one items to be True\n",
    "any(list_mix)\n"
   ]
  },
  {
   "cell_type": "code",
   "execution_count": 170,
   "id": "ad520e1b-5dd0-4188-b17d-8088ed9a6b79",
   "metadata": {},
   "outputs": [
    {
     "data": {
      "text/plain": [
       "True"
      ]
     },
     "execution_count": 170,
     "metadata": {},
     "output_type": "execute_result"
    }
   ],
   "source": [
    "any([False,False,0,0,0,0,00,0.00,0.001])"
   ]
  },
  {
   "cell_type": "code",
   "execution_count": 171,
   "id": "63f9808d-21c0-40e0-816c-ad46da8c1246",
   "metadata": {},
   "outputs": [
    {
     "data": {
      "text/plain": [
       "[56, 44, 28, 98, 77, 99, 56, 45, 56]"
      ]
     },
     "execution_count": 171,
     "metadata": {},
     "output_type": "execute_result"
    }
   ],
   "source": [
    "list_num"
   ]
  },
  {
   "cell_type": "code",
   "execution_count": 172,
   "id": "5e616090-ff67-4103-85a6-373f2b133e6d",
   "metadata": {},
   "outputs": [],
   "source": [
    "# sort a list in ascending order\n",
    "list_num.sort()"
   ]
  },
  {
   "cell_type": "code",
   "execution_count": 173,
   "id": "68cae691-8f28-41cc-ba2f-b4b68a7fad25",
   "metadata": {},
   "outputs": [
    {
     "data": {
      "text/plain": [
       "[28, 44, 45, 56, 56, 56, 77, 98, 99]"
      ]
     },
     "execution_count": 173,
     "metadata": {},
     "output_type": "execute_result"
    }
   ],
   "source": [
    "list_num"
   ]
  },
  {
   "cell_type": "code",
   "execution_count": 174,
   "id": "8d96c3f7-f8b1-421e-a254-87c7ea2012d2",
   "metadata": {},
   "outputs": [
    {
     "data": {
      "text/plain": [
       "[99, 98, 77, 56, 56, 56, 45, 44, 28]"
      ]
     },
     "execution_count": 174,
     "metadata": {},
     "output_type": "execute_result"
    }
   ],
   "source": [
    "list_num.sort(reverse=True) # descending\n",
    "list_num"
   ]
  },
  {
   "cell_type": "code",
   "execution_count": 175,
   "id": "5a584224-42f8-43fe-a53d-2b858f2b8264",
   "metadata": {},
   "outputs": [
    {
     "data": {
      "text/plain": [
       "True"
      ]
     },
     "execution_count": 175,
     "metadata": {},
     "output_type": "execute_result"
    }
   ],
   "source": [
    "# Membership\n",
    "9.81 in list_mix # checks for presence of an item within the list"
   ]
  },
  {
   "cell_type": "code",
   "execution_count": 176,
   "id": "d6e690b8-fb09-4517-9bd2-2cdf8a1db6dd",
   "metadata": {},
   "outputs": [
    {
     "data": {
      "text/plain": [
       "True"
      ]
     },
     "execution_count": 176,
     "metadata": {},
     "output_type": "execute_result"
    }
   ],
   "source": [
    "9.810 in list_mix"
   ]
  },
  {
   "cell_type": "code",
   "execution_count": 177,
   "id": "ce2c9dfe-0557-4c11-96da-1f7b43b9143c",
   "metadata": {},
   "outputs": [
    {
     "data": {
      "text/plain": [
       "[]"
      ]
     },
     "execution_count": 177,
     "metadata": {},
     "output_type": "execute_result"
    }
   ],
   "source": [
    "# Empty the list\n",
    "rel_money.clear()\n",
    "rel_money"
   ]
  },
  {
   "cell_type": "code",
   "execution_count": 178,
   "id": "ab78d058-3822-4564-bfa2-a62fb3f14cc3",
   "metadata": {},
   "outputs": [
    {
     "ename": "NameError",
     "evalue": "name 'rel_money' is not defined",
     "output_type": "error",
     "traceback": [
      "\u001b[1;31m---------------------------------------------------------------------------\u001b[0m",
      "\u001b[1;31mNameError\u001b[0m                                 Traceback (most recent call last)",
      "Cell \u001b[1;32mIn[178], line 3\u001b[0m\n\u001b[0;32m      1\u001b[0m \u001b[38;5;66;03m# Erase from memory\u001b[39;00m\n\u001b[0;32m      2\u001b[0m \u001b[38;5;28;01mdel\u001b[39;00m rel_money\n\u001b[1;32m----> 3\u001b[0m rel_money\n",
      "\u001b[1;31mNameError\u001b[0m: name 'rel_money' is not defined"
     ]
    }
   ],
   "source": [
    "# Erase from memory\n",
    "del rel_money\n",
    "rel_money"
   ]
  },
  {
   "cell_type": "markdown",
   "id": "4007e7d2-130b-4172-a658-e205b1887483",
   "metadata": {},
   "source": [
    "### Tuples\n",
    "Ordered, right sequence of items"
   ]
  },
  {
   "cell_type": "code",
   "execution_count": 179,
   "id": "f38ef7a5-fc84-449f-bd6d-ffc0f1a17e82",
   "metadata": {},
   "outputs": [
    {
     "name": "stdout",
     "output_type": "stream",
     "text": [
      "()\n",
      "()\n"
     ]
    }
   ],
   "source": [
    "# Empty Tuple\n",
    "t1 = ()\n",
    "t2 = tuple()\n",
    "print(t1)\n",
    "print(t2)"
   ]
  },
  {
   "cell_type": "code",
   "execution_count": 180,
   "id": "12cfea44-fca5-4909-9ea1-d28454eb8f4b",
   "metadata": {},
   "outputs": [
    {
     "data": {
      "text/plain": [
       "tuple"
      ]
     },
     "execution_count": 180,
     "metadata": {},
     "output_type": "execute_result"
    }
   ],
   "source": [
    "type(t2)"
   ]
  },
  {
   "cell_type": "code",
   "execution_count": 181,
   "id": "25b5b761-4d89-4a6e-8cb2-064fca34aeed",
   "metadata": {},
   "outputs": [
    {
     "data": {
      "text/plain": [
       "(24, 24, 33, 81, 40, 12, 5, 66)"
      ]
     },
     "execution_count": 181,
     "metadata": {},
     "output_type": "execute_result"
    }
   ],
   "source": [
    "tup1 = (24,24,33,81,40,12,5,66)\n",
    "tup1"
   ]
  },
  {
   "cell_type": "code",
   "execution_count": 182,
   "id": "da770a6b-0606-4208-8253-cfdbae518a8f",
   "metadata": {},
   "outputs": [
    {
     "data": {
      "text/plain": [
       "40"
      ]
     },
     "execution_count": 182,
     "metadata": {},
     "output_type": "execute_result"
    }
   ],
   "source": [
    "tup1[4]"
   ]
  },
  {
   "cell_type": "code",
   "execution_count": 184,
   "id": "3fe7652d-dec2-47ca-840e-b08549250d3b",
   "metadata": {},
   "outputs": [
    {
     "ename": "TypeError",
     "evalue": "'tuple' object does not support item assignment",
     "output_type": "error",
     "traceback": [
      "\u001b[1;31m---------------------------------------------------------------------------\u001b[0m",
      "\u001b[1;31mTypeError\u001b[0m                                 Traceback (most recent call last)",
      "Cell \u001b[1;32mIn[184], line 1\u001b[0m\n\u001b[1;32m----> 1\u001b[0m tup1[\u001b[38;5;241m4\u001b[39m] \u001b[38;5;241m=\u001b[39m \u001b[38;5;241m60\u001b[39m\n",
      "\u001b[1;31mTypeError\u001b[0m: 'tuple' object does not support item assignment"
     ]
    }
   ],
   "source": [
    "tup1[4] = 60"
   ]
  },
  {
   "cell_type": "code",
   "execution_count": 185,
   "id": "b70ff2fe-e81e-48d8-ad4d-66566de9a1c5",
   "metadata": {},
   "outputs": [
    {
     "ename": "TypeError",
     "evalue": "'tuple' object doesn't support item deletion",
     "output_type": "error",
     "traceback": [
      "\u001b[1;31m---------------------------------------------------------------------------\u001b[0m",
      "\u001b[1;31mTypeError\u001b[0m                                 Traceback (most recent call last)",
      "Cell \u001b[1;32mIn[185], line 1\u001b[0m\n\u001b[1;32m----> 1\u001b[0m \u001b[38;5;28;01mdel\u001b[39;00m tup1[\u001b[38;5;241m2\u001b[39m]\n",
      "\u001b[1;31mTypeError\u001b[0m: 'tuple' object doesn't support item deletion"
     ]
    }
   ],
   "source": [
    "del tup1[2] # Tuples are Immutable"
   ]
  },
  {
   "cell_type": "code",
   "execution_count": null,
   "id": "f972b03b-41a2-4fc9-9d9c-27869849fc5e",
   "metadata": {},
   "outputs": [],
   "source": [
    "# Concatenate of types\n",
    "tup2 = (24,48,72)\n",
    "tup3 = (96,120,144,168,192)\n",
    "tup2 + tup3"
   ]
  },
  {
   "cell_type": "code",
   "execution_count": 186,
   "id": "b2040cf4-a728-4316-8931-fe42b8baca68",
   "metadata": {},
   "outputs": [
    {
     "ename": "NameError",
     "evalue": "name 'tup3' is not defined",
     "output_type": "error",
     "traceback": [
      "\u001b[1;31m---------------------------------------------------------------------------\u001b[0m",
      "\u001b[1;31mNameError\u001b[0m                                 Traceback (most recent call last)",
      "Cell \u001b[1;32mIn[186], line 1\u001b[0m\n\u001b[1;32m----> 1\u001b[0m \u001b[38;5;241m72\u001b[39m \u001b[38;5;129;01min\u001b[39;00m tup3\n",
      "\u001b[1;31mNameError\u001b[0m: name 'tup3' is not defined"
     ]
    }
   ],
   "source": [
    "72 in tup3 # membership of an item within the tuple"
   ]
  },
  {
   "cell_type": "code",
   "execution_count": null,
   "id": "2586b9ef-0604-4e68-96c8-a088455d7c75",
   "metadata": {},
   "outputs": [],
   "source": [
    "# Position of an item in the tuple\n",
    "tup3.index(144)"
   ]
  },
  {
   "cell_type": "code",
   "execution_count": null,
   "id": "385cf741-f4a1-434c-bf72-3281f9999b31",
   "metadata": {},
   "outputs": [],
   "source": [
    "# Sorting a Tuple\n",
    "tup_num = (95,120,14,18,39,87,45,75,20,200)\n",
    "tup_num"
   ]
  },
  {
   "cell_type": "code",
   "execution_count": null,
   "id": "6f46e179-c1dd-4902-81f2-bda399157df1",
   "metadata": {},
   "outputs": [],
   "source": [
    "sorted(tup_num)"
   ]
  },
  {
   "cell_type": "code",
   "execution_count": null,
   "id": "9e6b99f6-49b5-4db8-8fd3-b672d14d26ca",
   "metadata": {},
   "outputs": [],
   "source": [
    "sorted(tup_num, reverse=True)"
   ]
  },
  {
   "cell_type": "code",
   "execution_count": null,
   "id": "611cc608-f6b7-40f5-8773-5c822c4c4d3f",
   "metadata": {},
   "outputs": [],
   "source": [
    "tup_num.clear()"
   ]
  },
  {
   "cell_type": "code",
   "execution_count": null,
   "id": "204bcc66-22c1-4120-8cc0-67a66f650e0d",
   "metadata": {},
   "outputs": [],
   "source": [
    "del.tup_num\n",
    "tup_num"
   ]
  },
  {
   "cell_type": "code",
   "execution_count": null,
   "id": "7739f9e4-d4c8-4a58-a444-d390bf5717d9",
   "metadata": {},
   "outputs": [],
   "source": [
    "date2=date1.strftime(\"%Y\")\n",
    "print(date2)"
   ]
  },
  {
   "cell_type": "markdown",
   "id": "7e9a76ae-2006-4c89-bc68-633cac5841ad",
   "metadata": {},
   "source": [
    "# 28-Feb-2024"
   ]
  },
  {
   "cell_type": "markdown",
   "id": "98d2af5f-1f3b-4ad3-80bb-2c04972eb212",
   "metadata": {},
   "source": [
    "# Sets"
   ]
  },
  {
   "cell_type": "code",
   "execution_count": null,
   "id": "27c9384e-2af6-4421-b5d0-4ac867c5e033",
   "metadata": {},
   "outputs": [],
   "source": [
    "# Empty set\n",
    "s1 = set()\n",
    "print(s1)"
   ]
  },
  {
   "cell_type": "code",
   "execution_count": null,
   "id": "ad66408b-93d9-4c61-ab9b-2c87cb2f2852",
   "metadata": {},
   "outputs": [],
   "source": [
    "s2 = {23,66,41,49,8.445,\"Yolo\",\"Objects\",True, 55}\n",
    "s2"
   ]
  },
  {
   "cell_type": "code",
   "execution_count": null,
   "id": "244b29a8-1543-41e4-a9f2-1a447db56620",
   "metadata": {},
   "outputs": [],
   "source": [
    "set_1 = {4,7,7,7,8,4,8,4,4,7,4,7,8,8,8,8,7.0}\n",
    "set_1 # duplicates are noi allowed"
   ]
  },
  {
   "cell_type": "code",
   "execution_count": null,
   "id": "4839d6fc-f3fa-4e07-b367-3bb5de188514",
   "metadata": {},
   "outputs": [],
   "source": [
    "s3 = {4,5,1,1,1,1.0,True,False,True}\n",
    "s3"
   ]
  },
  {
   "cell_type": "code",
   "execution_count": null,
   "id": "d2319716-deda-4fae-99b8-64b93fb2dac1",
   "metadata": {},
   "outputs": [],
   "source": [
    "t1 = {4,5,1,1,1,1.0,True,True,0}\n",
    "t1"
   ]
  },
  {
   "cell_type": "code",
   "execution_count": null,
   "id": "085bd05c-3039-4666-aeef-003d475abb39",
   "metadata": {},
   "outputs": [],
   "source": [
    "nest1 = [45,22,96,7,5,14,[66,77],{100,201},(45,95,99),4,9,1]"
   ]
  },
  {
   "cell_type": "code",
   "execution_count": null,
   "id": "6de762c8-8649-473c-91ca-2f290450333d",
   "metadata": {},
   "outputs": [],
   "source": [
    "type(nest1)"
   ]
  },
  {
   "cell_type": "code",
   "execution_count": null,
   "id": "4be9413b-7e6a-47e3-ba4f-c3830cecf5a0",
   "metadata": {},
   "outputs": [],
   "source": [
    "len(nest1)"
   ]
  },
  {
   "cell_type": "code",
   "execution_count": null,
   "id": "c781785a-9bc9-433e-8a53-5c81ac58fb21",
   "metadata": {},
   "outputs": [],
   "source": [
    "nest1"
   ]
  },
  {
   "cell_type": "code",
   "execution_count": null,
   "id": "d9ef409f-729e-401a-aad7-3446cbc89618",
   "metadata": {},
   "outputs": [],
   "source": [
    "# access tuple\n",
    "nest1[-4]"
   ]
  },
  {
   "cell_type": "code",
   "execution_count": null,
   "id": "ed806210-1b52-435b-8de8-f6f49b06d1db",
   "metadata": {},
   "outputs": [],
   "source": [
    "nest1[-4][1]"
   ]
  },
  {
   "cell_type": "code",
   "execution_count": null,
   "id": "8f707f43-a072-4464-a98e-48079a0147b6",
   "metadata": {},
   "outputs": [],
   "source": [
    "nest1[7]"
   ]
  },
  {
   "cell_type": "code",
   "execution_count": null,
   "id": "6a0cf924-56aa-4537-9bdc-159660711ed7",
   "metadata": {},
   "outputs": [],
   "source": [
    "nest1[7]"
   ]
  },
  {
   "cell_type": "markdown",
   "id": "1c7dc532-7003-44e7-975b-3fcd37f4ef87",
   "metadata": {},
   "source": [
    "# Set Functions"
   ]
  },
  {
   "cell_type": "code",
   "execution_count": null,
   "id": "277e05e8-5791-4ab7-81a6-7fe0c4273326",
   "metadata": {},
   "outputs": [],
   "source": [
    "set_carparts = {'bore','cylinders','coolant','battery'}\n",
    "set_carparts"
   ]
  },
  {
   "cell_type": "code",
   "execution_count": null,
   "id": "3c91a450-9dc8-4c62-9331-c985220a6d22",
   "metadata": {},
   "outputs": [],
   "source": [
    "# Adda single item\n",
    "set_carparts.add('tyres')\n",
    "set_carparts"
   ]
  },
  {
   "cell_type": "code",
   "execution_count": null,
   "id": "a23f0fc1-1a43-4782-8dc1-6fc957c4eae5",
   "metadata": {},
   "outputs": [],
   "source": [
    "# add Multiple item\n",
    "set_carparts.update(['radiator','washer','headlamps','steering'])\n",
    "set_carparts"
   ]
  },
  {
   "cell_type": "code",
   "execution_count": null,
   "id": "9fa1ca8e-6a7d-4f92-8f63-d35110929141",
   "metadata": {},
   "outputs": [],
   "source": [
    "len(set_carparts)"
   ]
  },
  {
   "cell_type": "code",
   "execution_count": null,
   "id": "4ba89bd0-c0c0-4946-9216-b7a3f136796a",
   "metadata": {},
   "outputs": [],
   "source": [
    "# removal of item\n",
    "set_carparts.remove('bore')\n",
    "set_carparts"
   ]
  },
  {
   "cell_type": "code",
   "execution_count": null,
   "id": "7925347b-87eb-449d-afa0-e103139a166b",
   "metadata": {},
   "outputs": [],
   "source": [
    "set_carparts.discard('tyres')\n",
    "set_carparts"
   ]
  },
  {
   "cell_type": "code",
   "execution_count": null,
   "id": "cb7e1f3e-4c11-4965-8da7-38c9b6d05ec9",
   "metadata": {},
   "outputs": [],
   "source": [
    "set_carparts.clear()\n",
    "set_carparts"
   ]
  },
  {
   "cell_type": "code",
   "execution_count": null,
   "id": "0f28d1c5-c677-48f4-bc48-59883c73d6d4",
   "metadata": {},
   "outputs": [],
   "source": [
    "del set_carparts # erase from active session"
   ]
  },
  {
   "cell_type": "markdown",
   "id": "03430107-85b5-4c43-af4b-8a8f0fbeeec2",
   "metadata": {},
   "source": [
    "# Operations in Sets"
   ]
  },
  {
   "cell_type": "code",
   "execution_count": null,
   "id": "03315f09-4948-4cf7-926e-c6b6bb5129cc",
   "metadata": {},
   "outputs": [],
   "source": [
    "A = {16,1,18,13,24,20,105,11,107,45}\n",
    "B = {18,6,12,19,24,27,11,107,38,99,58}\n",
    "print(\"Set A is as follows\",A)\n",
    "print(\"Set B is as follows\",B)"
   ]
  },
  {
   "cell_type": "code",
   "execution_count": null,
   "id": "5a886c65-c883-4592-9ad0-e2f379b28672",
   "metadata": {},
   "outputs": [],
   "source": [
    "A.union(B) # B.union(A)"
   ]
  },
  {
   "cell_type": "code",
   "execution_count": null,
   "id": "2491555a-a375-4894-a06e-8f54c631d007",
   "metadata": {},
   "outputs": [],
   "source": [
    "len(A.union(B))"
   ]
  },
  {
   "cell_type": "code",
   "execution_count": null,
   "id": "93440694-ee62-4aa1-81f8-d1bd2f3a9d23",
   "metadata": {},
   "outputs": [],
   "source": [
    "# Intersection gives common items\n",
    "A.intersection(B)"
   ]
  },
  {
   "cell_type": "code",
   "execution_count": null,
   "id": "70c7c782-8dca-47a8-afe0-a78d9736405d",
   "metadata": {},
   "outputs": [],
   "source": [
    "len(A)"
   ]
  },
  {
   "cell_type": "code",
   "execution_count": null,
   "id": "c2ba400c-16e4-40aa-b74a-21e6d23c95ba",
   "metadata": {},
   "outputs": [],
   "source": [
    "len(B)"
   ]
  },
  {
   "cell_type": "code",
   "execution_count": null,
   "id": "5c561244-dfcc-40a7-a252-a83ddc711f7e",
   "metadata": {},
   "outputs": [],
   "source": [
    "len(A.intersection(B))"
   ]
  },
  {
   "cell_type": "markdown",
   "id": "1b01035d-caba-4846-a938-7d6347367eef",
   "metadata": {},
   "source": [
    "### write down the equation to obtain the length of a union of 2 sets in terms of other len() functions"
   ]
  },
  {
   "cell_type": "code",
   "execution_count": null,
   "id": "91e7b2a0-e94d-4917-9739-b719011ea4be",
   "metadata": {},
   "outputs": [],
   "source": [
    "A.difference(B)"
   ]
  },
  {
   "cell_type": "code",
   "execution_count": null,
   "id": "982ef910-2c52-4067-b2a0-4672aa6c265f",
   "metadata": {},
   "outputs": [],
   "source": [
    "A|B"
   ]
  },
  {
   "cell_type": "markdown",
   "id": "9b0457f7-8e43-4a47-bb55-94e7b955e043",
   "metadata": {},
   "source": [
    "## Dictionaries\n",
    "items expressed in parts **key:value**"
   ]
  },
  {
   "cell_type": "code",
   "execution_count": null,
   "id": "a49bf51b-124c-49f2-9414-369885afebc8",
   "metadata": {},
   "outputs": [],
   "source": [
    "# Empty dictionary\n",
    "d1 = {}\n",
    "d2 = dict()\n",
    "print(d1,d2)"
   ]
  },
  {
   "cell_type": "code",
   "execution_count": null,
   "id": "7842d6c9-5126-4193-a751-dd67f006b36e",
   "metadata": {},
   "outputs": [],
   "source": [
    "type(d1)"
   ]
  },
  {
   "cell_type": "code",
   "execution_count": null,
   "id": "3451521e-0e5b-4d8a-b0f3-762efba3ab65",
   "metadata": {},
   "outputs": [],
   "source": [
    "type(d2)"
   ]
  },
  {
   "cell_type": "code",
   "execution_count": null,
   "id": "79282c2c-a657-4118-bb3c-ee16d8ed9de8",
   "metadata": {},
   "outputs": [],
   "source": [
    "dict_1 = {'A':25,'B':25,'C':35} # Keys may be characters or numbers\n",
    "print(dict_1)"
   ]
  },
  {
   "cell_type": "code",
   "execution_count": null,
   "id": "f72c9d7d-016e-4855-aae6-76f73cf8f5ec",
   "metadata": {},
   "outputs": [],
   "source": [
    "dict_1.keys() # keys in a dictionaries"
   ]
  },
  {
   "cell_type": "code",
   "execution_count": null,
   "id": "d5473cf3-a73e-456a-944a-fbce92371445",
   "metadata": {},
   "outputs": [],
   "source": [
    "dict_1.values()"
   ]
  },
  {
   "cell_type": "code",
   "execution_count": null,
   "id": "69dd072a-dec4-4aab-9ab6-97c83cb69938",
   "metadata": {},
   "outputs": [],
   "source": [
    "# Keys used to index a dictionary\n",
    "dict_1['B']"
   ]
  },
  {
   "cell_type": "code",
   "execution_count": null,
   "id": "eafa23b4-6745-4593-af78-fe6833c77bca",
   "metadata": {},
   "outputs": [],
   "source": [
    "dict_1['C']"
   ]
  },
  {
   "cell_type": "code",
   "execution_count": null,
   "id": "b449f092-25c9-4799-99c2-220988ce5a41",
   "metadata": {},
   "outputs": [],
   "source": [
    "# Nested dictionary\n",
    "cities = {'country':['India','US','UK','Germany','Ireland'],\n",
    "    'city':{'Karnataka':('Bangalore','Nandi hills','Mysore','Kolor'),\n",
    "        'Andra':['Kadapa','Tirupati','Guntur','Kurnool'],\n",
    "        'Maharastra':['Mumbai','Pune','Nagpur','Thane','Nanded']}}\n",
    "cities"
   ]
  },
  {
   "cell_type": "code",
   "execution_count": null,
   "id": "8fa19701-bbbd-41a2-9cb6-ce1a92e7dd08",
   "metadata": {},
   "outputs": [],
   "source": [
    "len(cities)"
   ]
  },
  {
   "cell_type": "code",
   "execution_count": null,
   "id": "bd79cd40-8b0f-41a8-b147-f1ed94cde3c3",
   "metadata": {},
   "outputs": [],
   "source": [
    "len(cities['city'])"
   ]
  },
  {
   "cell_type": "code",
   "execution_count": null,
   "id": "c28a26d0-a2d2-48f5-ba57-3f919f7e7f1d",
   "metadata": {},
   "outputs": [],
   "source": [
    "# Extract 'Germany'\n",
    "cities['country'][3]"
   ]
  },
  {
   "cell_type": "code",
   "execution_count": null,
   "id": "ab9fce65-902c-4736-9f8a-b89c62e9e454",
   "metadata": {},
   "outputs": [],
   "source": [
    "# Extract 'Guntur','Kolor'\n",
    "cities['city']['Andra'][2]\n"
   ]
  },
  {
   "cell_type": "code",
   "execution_count": null,
   "id": "7129cf3d-96dd-4dcb-85af-1228692a5f2a",
   "metadata": {},
   "outputs": [],
   "source": [
    "cities['city']['Karnataka'][3]"
   ]
  },
  {
   "cell_type": "code",
   "execution_count": null,
   "id": "31f3b8e2-fc5a-481a-b163-04c2ec04224a",
   "metadata": {},
   "outputs": [],
   "source": [
    "cities['city']['Karnataka'][-1]"
   ]
  },
  {
   "cell_type": "code",
   "execution_count": null,
   "id": "5b69d59d-ac92-411c-9b39-847d53cfaa7a",
   "metadata": {},
   "outputs": [],
   "source": [
    "# Function in Dictionary\n",
    "profile = {'Name':'ABC','Profits':24,\"Share_value\":100, \"Emp\":10}"
   ]
  },
  {
   "cell_type": "code",
   "execution_count": null,
   "id": "b61c713c-4732-4275-9acf-9ef270fe264a",
   "metadata": {},
   "outputs": [],
   "source": [
    "profile"
   ]
  },
  {
   "cell_type": "code",
   "execution_count": null,
   "id": "29dec593-b8e0-4f32-9e38-81207650a4d7",
   "metadata": {},
   "outputs": [],
   "source": [
    "# Emp number changes in the future\n",
    "profile['Emp'] = 45\n",
    "profile"
   ]
  },
  {
   "cell_type": "code",
   "execution_count": null,
   "id": "ef5c31d2-0d7a-4e47-97a7-2350b2c7b2b8",
   "metadata": {},
   "outputs": [],
   "source": [
    "# Share avaliability ti be added\n",
    "profile['Avl_shares'] = 1000 # initialising a new item with key\n",
    "profile"
   ]
  },
  {
   "cell_type": "code",
   "execution_count": null,
   "id": "6ce52d45-2ec5-497c-8618-98c0f529ce08",
   "metadata": {},
   "outputs": [],
   "source": [
    "profile['Age'] = 7\n",
    "profile['Founder'] = 'Sunder'\n",
    "profile"
   ]
  },
  {
   "cell_type": "code",
   "execution_count": null,
   "id": "42b4d6bd-774e-4dd5-8008-5c52e528f128",
   "metadata": {},
   "outputs": [],
   "source": [
    "profile['Name'] = 'Sai'\n",
    "profile"
   ]
  },
  {
   "cell_type": "code",
   "execution_count": null,
   "id": "e183af6b-c920-4e90-9fbb-ed7e70fb6a88",
   "metadata": {},
   "outputs": [],
   "source": [
    "# removal\n",
    "del profile['Share_value'] # delete using key\n",
    "profile"
   ]
  },
  {
   "cell_type": "code",
   "execution_count": null,
   "id": "6ba4242c-bbc0-4a58-8337-e2542910bae4",
   "metadata": {},
   "outputs": [],
   "source": [
    "profile.clear()\n",
    "profile # Emptied"
   ]
  },
  {
   "cell_type": "code",
   "execution_count": null,
   "id": "c8466dd5-7a5f-40bb-9dcc-184f267120da",
   "metadata": {},
   "outputs": [],
   "source": [
    "del profile\n",
    "profile"
   ]
  },
  {
   "cell_type": "markdown",
   "id": "a4bbccae-01c5-4786-846a-dee5dfb58989",
   "metadata": {},
   "source": [
    "### Loops\n",
    "perform a set of tasks repeatedly\n",
    "\n",
    "Iterations are usually done with some criteria introducing"
   ]
  },
  {
   "cell_type": "code",
   "execution_count": null,
   "id": "b9f14442-9189-4439-8be3-b189f49085a0",
   "metadata": {},
   "outputs": [],
   "source": [
    "i = 1 # initialised counter\n",
    "while i<6:\n",
    "    print(i)\n",
    "    i += 1 # incrementer"
   ]
  },
  {
   "cell_type": "code",
   "execution_count": null,
   "id": "dffcb650-a7e6-4e02-b6c3-09f1edf2a56b",
   "metadata": {},
   "outputs": [],
   "source": [
    "# use of break statement\n",
    "i=1\n",
    "while i<10:\n",
    "    print(f\"The numebr {1} has a square of {i*i}\")\n",
    "    new_var = i**2 + 3*i\n",
    "    print('New variable comes to',new_var)\n",
    "    if new_var>30:\n",
    "        break  # exists the while loop\n",
    "    i+=1 # incrementer"
   ]
  },
  {
   "cell_type": "code",
   "execution_count": null,
   "id": "0cf5a6f1-ec04-47f3-a600-78e285359b99",
   "metadata": {},
   "outputs": [],
   "source": [
    "# use of continue statement\n",
    "count = 0\n",
    "while count<6: # Incrementer provider early\n",
    "    count+=1\n",
    "\n",
    "    if count==4:\n",
    "        continue # Skips all below continue for that iteration\n",
    "    print(\"Value is at\",count) # main code ststement after continue\n",
    "    "
   ]
  },
  {
   "cell_type": "code",
   "execution_count": null,
   "id": "0b2d974d-41c9-4e23-bdeb-b3771cabe7aa",
   "metadata": {},
   "outputs": [],
   "source": [
    "i=1\n",
    "while i<8:\n",
    "    print(f\"The numebr {1} has a square of {i*i}\")\n",
    "    new_var = i**2 + 3*i\n",
    "    print('New variable comes to',new_var)\n",
    "    if new_var>25:\n",
    "        break  # exists the while loop\n",
    "    i+=1 # incrementer"
   ]
  },
  {
   "cell_type": "markdown",
   "id": "195e84e4-e7ab-4ba6-b9d4-390209248dfe",
   "metadata": {},
   "source": [
    "# 29-feb-24"
   ]
  },
  {
   "cell_type": "markdown",
   "id": "c0bb0e4c-0937-42c2-8c35-f9d1caf3fc65",
   "metadata": {},
   "source": [
    "### for Loop\n",
    "as a form of iyteration, for loop requires less coding\n",
    "\n",
    "it is a go-to loop for working with iterables (list/tuple)"
   ]
  },
  {
   "cell_type": "code",
   "execution_count": null,
   "id": "13a63e01-c554-44f7-8db4-734a859e0928",
   "metadata": {},
   "outputs": [],
   "source": [
    "for i in range(1,7):\n",
    "    print(i) # main code"
   ]
  },
  {
   "cell_type": "code",
   "execution_count": null,
   "id": "fac7f7ae-4e9b-4e5d-a0f1-530e93e585f0",
   "metadata": {},
   "outputs": [],
   "source": [
    "for i in range(5):\n",
    "    print(f\"Cube of {1} is {i**3}\")"
   ]
  },
  {
   "cell_type": "code",
   "execution_count": null,
   "id": "7590f113-68ac-4673-b417-b86566afd3e1",
   "metadata": {},
   "outputs": [],
   "source": [
    "# print out the odd numbers between 14 and 42\n",
    "for i in range(15,42,2):\n",
    "    print(i)"
   ]
  },
  {
   "cell_type": "code",
   "execution_count": null,
   "id": "b4c30726-96b1-4596-a9ab-092d7a666df9",
   "metadata": {},
   "outputs": [],
   "source": [
    "list_num = [78,87,82,91,16,39,55]\n",
    "# find out which are even numbers in the list\n",
    "\n",
    "for i in list_num:\n",
    "    if i%2==0:\n",
    "        print(i,\"is even.\")"
   ]
  },
  {
   "cell_type": "code",
   "execution_count": 187,
   "id": "aa859d3d-3e31-44dd-b996-465cea8acff1",
   "metadata": {},
   "outputs": [
    {
     "name": "stdout",
     "output_type": "stream",
     "text": [
      "98 is even.\n",
      "56 is even.\n",
      "56 is even.\n",
      "56 is even.\n",
      "44 is even.\n",
      "28 is even.\n"
     ]
    }
   ],
   "source": [
    "even_list=[]\n",
    "for i in list_num:\n",
    "     if i%2==0:\n",
    "        print(i,\"is even.\")\n",
    "        even_list.append(i)"
   ]
  },
  {
   "cell_type": "code",
   "execution_count": 188,
   "id": "2e4e75fa-60c3-4430-a466-68c4926126f3",
   "metadata": {},
   "outputs": [
    {
     "data": {
      "text/plain": [
       "[98, 56, 56, 56, 44, 28]"
      ]
     },
     "execution_count": 188,
     "metadata": {},
     "output_type": "execute_result"
    }
   ],
   "source": [
    "even_list"
   ]
  },
  {
   "cell_type": "code",
   "execution_count": 189,
   "id": "6678b1ae-06e9-433a-901d-17cffa6eda43",
   "metadata": {},
   "outputs": [
    {
     "data": {
      "text/plain": [
       "('Mango', 'Aplle', 'Kiwi', 'Orange', 'Grape', 'Banana', 'Watermelon')"
      ]
     },
     "execution_count": 189,
     "metadata": {},
     "output_type": "execute_result"
    }
   ],
   "source": [
    "fruits = 'Mango','Aplle','Kiwi','Orange','Grape','Banana','Watermelon'\n",
    "fruits"
   ]
  },
  {
   "cell_type": "code",
   "execution_count": 190,
   "id": "5ca11812-7040-49cb-a683-c72573a74041",
   "metadata": {},
   "outputs": [
    {
     "data": {
      "text/plain": [
       "tuple"
      ]
     },
     "execution_count": 190,
     "metadata": {},
     "output_type": "execute_result"
    }
   ],
   "source": [
    "type(fruits)"
   ]
  },
  {
   "cell_type": "code",
   "execution_count": 191,
   "id": "ae2d3dd8-3384-4fff-ab56-4bab3e252a0c",
   "metadata": {},
   "outputs": [
    {
     "name": "stdout",
     "output_type": "stream",
     "text": [
      "3 Truckloads of Mango\n",
      "3 Truckloads of Aplle\n",
      "3 Truckloads of Kiwi\n",
      "3 Truckloads of Orange\n",
      "3 Truckloads of Grape\n",
      "3 Truckloads of Banana\n",
      "3 Truckloads of Watermelon\n"
     ]
    }
   ],
   "source": [
    "for i in fruits:\n",
    "    print(\"3 Truckloads of\",i)"
   ]
  },
  {
   "cell_type": "code",
   "execution_count": 192,
   "id": "b7446f35-eb22-4e64-9469-188e7c8e17ab",
   "metadata": {},
   "outputs": [
    {
     "name": "stdout",
     "output_type": "stream",
     "text": [
      "3 Truckloads of Mangos\n",
      "3 Truckloads of Aplles\n",
      "3 Truckloads of Kiwis\n",
      "3 Truckloads of Oranges\n",
      "3 Truckloads of Grapes\n",
      "3 Truckloads of Bananas\n",
      "3 Truckloads of Watermelons\n"
     ]
    }
   ],
   "source": [
    "for i in fruits:\n",
    "    print(f\"3 Truckloads of {i}s\")"
   ]
  },
  {
   "cell_type": "markdown",
   "id": "9c142051-54ea-4ce2-bd0c-60199b110098",
   "metadata": {},
   "source": [
    "# qty = (4,10,20,15,15,30,10) # corresponding to each fruit in fruits"
   ]
  },
  {
   "cell_type": "markdown",
   "id": "57fe879f-bbf0-40de-a6fa-b8f17b11371c",
   "metadata": {},
   "source": [
    "### Functions"
   ]
  },
  {
   "cell_type": "markdown",
   "id": "e0d35523-c9ab-4fa3-a91d-5ccd3c079475",
   "metadata": {},
   "source": [
    "#### user-defined functions"
   ]
  },
  {
   "cell_type": "code",
   "execution_count": 193,
   "id": "df2f2eb8-d0ca-4ba0-86bf-8e5d223da142",
   "metadata": {},
   "outputs": [],
   "source": [
    "def name_of_function(): # function without an argument (parameter)\n",
    "    print(\"Hello\")"
   ]
  },
  {
   "cell_type": "code",
   "execution_count": 194,
   "id": "013ad584-7643-400b-b9b1-12389367760c",
   "metadata": {},
   "outputs": [
    {
     "name": "stdout",
     "output_type": "stream",
     "text": [
      "Hello\n"
     ]
    }
   ],
   "source": [
    "# Calling a function\n",
    "name_of_function()"
   ]
  },
  {
   "cell_type": "code",
   "execution_count": 195,
   "id": "f4f2363e-095f-4f4c-83a8-ce15f1507f73",
   "metadata": {},
   "outputs": [],
   "source": [
    "def more_hellos(n):\n",
    "    print(\"Hello \"*n)"
   ]
  },
  {
   "cell_type": "code",
   "execution_count": 196,
   "id": "a7960807-72af-4fa5-8020-490f28f429ed",
   "metadata": {},
   "outputs": [
    {
     "name": "stdout",
     "output_type": "stream",
     "text": [
      "Hello Hello Hello Hello Hello Hello Hello Hello Hello \n"
     ]
    }
   ],
   "source": [
    "more_hellos(9)"
   ]
  },
  {
   "cell_type": "code",
   "execution_count": 197,
   "id": "69834e79-af17-42b7-a74b-043aa36ce769",
   "metadata": {},
   "outputs": [
    {
     "data": {
      "text/plain": [
       "3.142857142857143"
      ]
     },
     "execution_count": 197,
     "metadata": {},
     "output_type": "execute_result"
    }
   ],
   "source": [
    "22/7"
   ]
  },
  {
   "cell_type": "code",
   "execution_count": 198,
   "id": "a990cb48-1623-4b36-9023-9767f4a92340",
   "metadata": {},
   "outputs": [],
   "source": [
    "# area of a circle\n",
    "import math\n",
    "def area_of_circle(r):\n",
    "    \"\"\"Computes the area of circle for given radius\"\"\" # Docstring\n",
    "    \n",
    "    area = math.pi*r*r\n",
    "    print(area)"
   ]
  },
  {
   "cell_type": "code",
   "execution_count": 199,
   "id": "0aa00ccd-019a-439a-afa3-fdbc41e22add",
   "metadata": {},
   "outputs": [
    {
     "name": "stdout",
     "output_type": "stream",
     "text": [
      "28.274333882308138\n"
     ]
    }
   ],
   "source": [
    "area_of_circle(3)"
   ]
  },
  {
   "cell_type": "code",
   "execution_count": 200,
   "id": "f3117a04-bbb8-4ca9-a8e0-a16d293ea1fa",
   "metadata": {},
   "outputs": [
    {
     "name": "stdout",
     "output_type": "stream",
     "text": [
      "Help on function area_of_circle in module __main__:\n",
      "\n",
      "area_of_circle(r)\n",
      "    Computes the area of circle for given radius\n",
      "\n"
     ]
    }
   ],
   "source": [
    "# access Docstring\n",
    "help(area_of_circle)"
   ]
  },
  {
   "cell_type": "code",
   "execution_count": 201,
   "id": "06f7b9b7-7ef9-426d-9bba-bfb37256553f",
   "metadata": {},
   "outputs": [
    {
     "name": "stdout",
     "output_type": "stream",
     "text": [
      "Help on built-in function print in module builtins:\n",
      "\n",
      "print(*args, sep=' ', end='\\n', file=None, flush=False)\n",
      "    Prints the values to a stream, or to sys.stdout by default.\n",
      "    \n",
      "    sep\n",
      "      string inserted between values, default a space.\n",
      "    end\n",
      "      string appended after the last value, default a newline.\n",
      "    file\n",
      "      a file-like object (stream); defaults to the current sys.stdout.\n",
      "    flush\n",
      "      whether to forcibly flush the stream.\n",
      "\n"
     ]
    }
   ],
   "source": [
    "help(print)"
   ]
  },
  {
   "cell_type": "code",
   "execution_count": 202,
   "id": "f962a4b3-4b6c-405d-8013-101bcd81e30d",
   "metadata": {},
   "outputs": [
    {
     "data": {
      "text/plain": [
       "3.141592653589793"
      ]
     },
     "execution_count": 202,
     "metadata": {},
     "output_type": "execute_result"
    }
   ],
   "source": [
    "math.pi"
   ]
  },
  {
   "cell_type": "code",
   "execution_count": 203,
   "id": "0ef60fdb-fe9b-4528-9d2f-ae8a02eb98bd",
   "metadata": {},
   "outputs": [],
   "source": [
    "# Area of a rectangle\n",
    "def area_rectangle(l,b):\n",
    "    \"\"\"Computes the rectangle area for given dimensions\"\"\"\n",
    "    area = l*b\n",
    "    print(area)"
   ]
  },
  {
   "cell_type": "code",
   "execution_count": 204,
   "id": "3e7ae1f1-06da-4b9d-8834-faaee234c223",
   "metadata": {},
   "outputs": [
    {
     "name": "stdout",
     "output_type": "stream",
     "text": [
      "22200\n"
     ]
    }
   ],
   "source": [
    "area_rectangle(185,120)"
   ]
  },
  {
   "cell_type": "code",
   "execution_count": 205,
   "id": "60b3f0d0-d4c0-4170-8252-1c13d7be81ee",
   "metadata": {},
   "outputs": [],
   "source": [
    "# function with no arguments but generating output\n",
    "def perimeter_rectangle():\n",
    "    \"\"\"Procures the deminsions from user and calculate the perimeter\"\"\"\n",
    "    lenght = float(input(\"Enter the lenght of rectangle\"))\n",
    "    breadth = float(input(\"Enter the breadth of rectangle\"))\n",
    "    perimeter = 2*(lenght + breadth)\n",
    "    print(perimeter)"
   ]
  },
  {
   "cell_type": "code",
   "execution_count": 206,
   "id": "fc4f9102-ba8a-4445-a49e-01082732e27a",
   "metadata": {},
   "outputs": [
    {
     "name": "stdin",
     "output_type": "stream",
     "text": [
      "Enter the lenght of rectangle 25\n",
      "Enter the breadth of rectangle 32\n"
     ]
    },
    {
     "name": "stdout",
     "output_type": "stream",
     "text": [
      "114.0\n"
     ]
    }
   ],
   "source": [
    "perimeter_rectangle()"
   ]
  },
  {
   "cell_type": "code",
   "execution_count": 207,
   "id": "91a4ac45-6e3f-4447-ac63-5b93a8a65ba5",
   "metadata": {},
   "outputs": [
    {
     "name": "stdout",
     "output_type": "stream",
     "text": [
      "Help on function perimeter_rectangle in module __main__:\n",
      "\n",
      "perimeter_rectangle()\n",
      "    Procures the deminsions from user and calculate the perimeter\n",
      "\n"
     ]
    }
   ],
   "source": [
    "help(perimeter_rectangle)"
   ]
  },
  {
   "cell_type": "code",
   "execution_count": 208,
   "id": "1d70f8ac-0eab-4122-9ada-c4b38bf4fb57",
   "metadata": {},
   "outputs": [
    {
     "name": "stdin",
     "output_type": "stream",
     "text": [
      "Enter the lenght of rectangle 55\n",
      "Enter the breadth of rectangle 99\n"
     ]
    },
    {
     "name": "stdout",
     "output_type": "stream",
     "text": [
      "308.0\n"
     ]
    }
   ],
   "source": [
    "# assign and save output\n",
    "p = perimeter_rectangle()"
   ]
  },
  {
   "cell_type": "code",
   "execution_count": 209,
   "id": "c0085793-f4a3-482d-8333-d356bd0ad876",
   "metadata": {},
   "outputs": [],
   "source": [
    "p #calling"
   ]
  },
  {
   "cell_type": "code",
   "execution_count": 210,
   "id": "e1b2e9ad-105a-4f09-b189-6479627f3f76",
   "metadata": {},
   "outputs": [
    {
     "data": {
      "text/plain": [
       "NoneType"
      ]
     },
     "execution_count": 210,
     "metadata": {},
     "output_type": "execute_result"
    }
   ],
   "source": [
    "type(p)"
   ]
  },
  {
   "cell_type": "code",
   "execution_count": 214,
   "id": "8f99dc0b-2be8-4226-b90d-2e86cfd71e64",
   "metadata": {},
   "outputs": [],
   "source": [
    "def perimeter2(l,b):\n",
    "    \"\"\"Perimeter computed - use of return\"\"\"\n",
    "    p = 2*(l+b)\n",
    "    return p"
   ]
  },
  {
   "cell_type": "code",
   "execution_count": 215,
   "id": "606b6bdd-2851-4282-a1d7-80024aa2cbe3",
   "metadata": {},
   "outputs": [],
   "source": [
    "p1 = perimeter2(250,50) # assign to function that used return"
   ]
  },
  {
   "cell_type": "code",
   "execution_count": 213,
   "id": "b8b5a427-7b90-481c-9178-cfac1d99b594",
   "metadata": {},
   "outputs": [
    {
     "data": {
      "text/plain": [
       "600"
      ]
     },
     "execution_count": 213,
     "metadata": {},
     "output_type": "execute_result"
    }
   ],
   "source": [
    "p1 # direct assignment works so returns is prefferd over print()"
   ]
  },
  {
   "cell_type": "raw",
   "id": "9cf55965-9abf-4ea1-9351-9bf8fd89a7ac",
   "metadata": {},
   "source": [
    "Define a function that identifies if a given number is prime."
   ]
  },
  {
   "cell_type": "markdown",
   "id": "41c4677e-02a7-447b-a1df-a8053bfdcf89",
   "metadata": {},
   "source": [
    "# 29-02-2024 Online"
   ]
  },
  {
   "cell_type": "code",
   "execution_count": null,
   "id": "861ed289-cfe9-4acf-8dd5-de7400c317c1",
   "metadata": {},
   "outputs": [],
   "source": []
  }
 ],
 "metadata": {
  "kernelspec": {
   "display_name": "Python 3 (ipykernel)",
   "language": "python",
   "name": "python3"
  },
  "language_info": {
   "codemirror_mode": {
    "name": "ipython",
    "version": 3
   },
   "file_extension": ".py",
   "mimetype": "text/x-python",
   "name": "python",
   "nbconvert_exporter": "python",
   "pygments_lexer": "ipython3",
   "version": "3.11.5"
  }
 },
 "nbformat": 4,
 "nbformat_minor": 5
}
